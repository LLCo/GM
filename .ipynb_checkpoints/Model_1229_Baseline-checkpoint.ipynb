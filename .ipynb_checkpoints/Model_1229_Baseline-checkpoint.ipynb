{
 "cells": [
  {
   "cell_type": "markdown",
   "metadata": {},
   "source": [
    "# Import necessary lib. \n"
   ]
  },
  {
   "cell_type": "code",
   "execution_count": 1,
   "metadata": {
    "scrolled": true
   },
   "outputs": [
    {
     "name": "stderr",
     "output_type": "stream",
     "text": [
      "E:\\Liulicong\\Software\\Anaconda3\\lib\\site-packages\\h5py\\__init__.py:34: FutureWarning: Conversion of the second argument of issubdtype from `float` to `np.floating` is deprecated. In future, it will be treated as `np.float64 == np.dtype(float).type`.\n",
      "  from ._conv import register_converters as _register_converters\n"
     ]
    },
    {
     "name": "stdout",
     "output_type": "stream",
     "text": [
      "1.12.0\n"
     ]
    }
   ],
   "source": [
    "# TensorFlow and tf.keras\n",
    "import tensorflow as tf\n",
    "from tensorflow.contrib.layers import l1_l2_regularizer\n",
    "\n",
    "# Helper libraries\n",
    "import numpy as np\n",
    "import pandas as pd\n",
    "import matplotlib.pyplot as plt\n",
    "\n",
    "print(tf.__version__)\n",
    "\n",
    "import os\n",
    "import h5py\n",
    "import time\n",
    "# from batchnorm import batch_norm,fc_batch_norm\n",
    "\n",
    "from sklearn.metrics import accuracy_score,classification_report\n",
    "import Model_1229 as my_model"
   ]
  },
  {
   "cell_type": "markdown",
   "metadata": {},
   "source": [
    "# Configuration\n",
    "Set the class names and num (17).\n",
    "Set the data path (relative path). "
   ]
  },
  {
   "cell_type": "code",
   "execution_count": 2,
   "metadata": {
    "collapsed": true
   },
   "outputs": [],
   "source": [
    "# configuration\n",
    "# data attribution\n",
    "CLASS_NUM = 17\n",
    "CLASS_URBAN = ['Urban_Compact high-rise', 'Urban_Compact mid-rise', 'Urban_Compact low-rise',\n",
    "               'Urban_Open high-rise', 'Urban_Open mid-rise', 'Urban_Open low-rise',\n",
    "               'Urban_Lightweight low-rise', 'Large low-rise', 'Sparesly built', 'Heavy industry']\n",
    "CLASS_RURAL = ['Dense trees', 'Scattered trees', 'Bush and scrub', 'Low plants', 'Bare rock or paved', 'Bare soil or sand', 'Water']\n",
    "CLASS_NAME = CLASS_URBAN + CLASS_RURAL\n",
    "\n",
    "# data path\n",
    "base_dir = r'../data/'\n",
    "path_training = os.path.join(base_dir, 'training.h5')\n",
    "path_validation = os.path.join(base_dir, 'validation.h5')\n",
    "path_test = os.path.join(base_dir, 'round1_test_a_20181109.h5')\n",
    "# random\n",
    "np.random.seed(0)"
   ]
  },
  {
   "cell_type": "markdown",
   "metadata": {},
   "source": [
    "# Read Data\n",
    "Check the data foramt."
   ]
  },
  {
   "cell_type": "code",
   "execution_count": 3,
   "metadata": {
    "scrolled": false
   },
   "outputs": [
    {
     "name": "stdout",
     "output_type": "stream",
     "text": [
      "------------------------------------------------------------\n",
      "training part\n",
      "s1_training:  (352366, 32, 32, 8)\n",
      "s2_training:  (352366, 32, 32, 10)\n",
      "label_training:  (352366, 17)\n",
      "------------------------------------------------------------\n",
      "validation part\n",
      "s1_validation:  (24119, 32, 32, 8)\n",
      "s2_validation:  (24119, 32, 32, 10)\n",
      "label_validation:  (24119, 17)\n",
      "------------------------------------------------------------\n",
      "Test part\n",
      "s1_test:  (4838, 32, 32, 8)\n",
      "s2_test:  (4838, 32, 32, 10)\n"
     ]
    }
   ],
   "source": [
    "h5py_training = h5py.File(path_training,'r')\n",
    "h5py_validation = h5py.File(path_validation,'r')\n",
    "h5py_test = h5py.File(path_test, 'r')\n",
    "\n",
    "### get s1 image channel data\n",
    "### it is not really loaded into memory. only the indexes have been loaded.\n",
    "print(\"-\" * 60)\n",
    "print(\"training part\")\n",
    "s1_training = h5py_training['sen1']\n",
    "print('s1_training: ', s1_training.shape)\n",
    "s2_training = h5py_training['sen2']\n",
    "print('s2_training: ', s2_training.shape)\n",
    "label_training = h5py_training['label']\n",
    "print('label_training: ', label_training.shape)\n",
    "\n",
    "print(\"-\" * 60)\n",
    "print(\"validation part\")\n",
    "s1_validation = h5py_validation['sen1']\n",
    "print('s1_validation: ', s1_validation.shape)\n",
    "s2_validation = h5py_validation['sen2']\n",
    "print('s2_validation: ', s2_validation.shape)\n",
    "label_validation = h5py_validation['label']\n",
    "print('label_validation: ', label_validation.shape)\n",
    "\n",
    "print(\"-\" * 60)\n",
    "print(\"Test part\")\n",
    "s1_test = h5py_test['sen1']\n",
    "print('s1_test: ', s1_test.shape)\n",
    "s2_test = h5py_test['sen2']\n",
    "print('s2_test: ', s2_test.shape)\n",
    "\n",
    "\n",
    "train_num, pixel_x, pixel_y, sar_bands = s1_training.shape\n",
    "vali_num, pixel_x, pixel_y, optical_bands = s2_validation.shape\n",
    "test_num = s1_test.shape[0]"
   ]
  },
  {
   "cell_type": "markdown",
   "metadata": {},
   "source": [
    "# Pre Training"
   ]
  },
  {
   "cell_type": "code",
   "execution_count": 4,
   "metadata": {
    "scrolled": false
   },
   "outputs": [
    {
     "name": "stdout",
     "output_type": "stream",
     "text": [
      "Model Build Start!\n",
      "Model Build Success!\n",
      "epochs : 0 Valid With AC: 0.5979210374769101 With Loss: 1.367008444098346\n",
      "epochs : 1 Valid With AC: 0.6100795204974403 With Loss: 1.437443814708046\n",
      "epochs : 2 Valid With AC: 0.5879043700281253 With Loss: 1.5444386043063818\n",
      "epochs : 3 Valid With AC: 0.5911705661411127 With Loss: 1.5774856068225112\n",
      "epochs : 4 Valid With AC: 0.5980002089472841 With Loss: 1.6852809859031894\n",
      "epochs : 5 Valid With AC: 0.6040745919400995 With Loss: 1.7616489830635502\n",
      "epochs : 6 Valid With AC: 0.6055042024486321 With Loss: 1.7778693282627447\n",
      "epochs : 7 Valid With AC: 0.5964695446747393 With Loss: 1.876166952254884\n",
      "epochs : 8 Valid With AC: 0.5812348105198095 With Loss: 2.0190632425239663\n",
      "epochs : 9 Valid With AC: 0.5695652493760606 With Loss: 1.9167147102262643\n",
      "Training time using: 1133.6588416099548\n"
     ]
    }
   ],
   "source": [
    "PRE_MODEL_prefix = \"0105_PRETRAINING_NOGRAFT\"\n",
    "PRE_MODEL_name = \"{}\".format(PRE_MODEL_prefix)\n",
    "my_model.build_model(PRE_MODEL_name)\n",
    "my_model.training((s2_training, label_training), (s2_validation, label_validation), \n",
    "                  model_name=PRE_MODEL_name, epochs=10)"
   ]
  },
  {
   "cell_type": "markdown",
   "metadata": {},
   "source": [
    "# One Model Training"
   ]
  },
  {
   "cell_type": "code",
   "execution_count": 49,
   "metadata": {
    "collapsed": true
   },
   "outputs": [
    {
     "name": "stdout",
     "output_type": "stream",
     "text": [
      "Model Build Start!\n",
      "Model Build Success!\n",
      "epochs : 0 Valid With AC: 0.11339999973773957 With Loss: 5.050211242675781\n",
      "epochs : 1 Valid With AC: 0.11339999973773957 With Loss: 5.938496801757813\n",
      "epochs : 2 Valid With AC: 0.12200000077486038 With Loss: 5.096493896484375\n",
      "epochs : 3 Valid With AC: 0.18259999960660933 With Loss: 4.234229638671875\n",
      "epochs : 4 Valid With AC: 0.49139999866485595 With Loss: 1.911457586669922\n",
      "epochs : 5 Valid With AC: 0.7699999976158142 With Loss: 0.7632871765136718\n",
      "epochs : 6 Valid With AC: 0.8138000035285949 With Loss: 0.6028267807006836\n",
      "epochs : 7 Valid With AC: 0.8446000003814698 With Loss: 0.47860005493164065\n",
      "epochs : 8 Valid With AC: 0.8738000011444091 With Loss: 0.38220713348388674\n",
      "epochs : 9 Valid With AC: 0.8416000056266785 With Loss: 0.46222345123291014\n",
      "epochs : 10 Valid With AC: 0.8867999958992004 With Loss: 0.35815686492919924\n",
      "epochs : 11 Valid With AC: 0.884399995803833 With Loss: 0.35007618560791015\n",
      "epochs : 12 Valid With AC: 0.8778000020980835 With Loss: 0.368726424407959\n",
      "epochs : 13 Valid With AC: 0.8846000027656555 With Loss: 0.34051246948242186\n",
      "epochs : 14 Valid With AC: 0.9015999960899354 With Loss: 0.2962829368591309\n",
      "epochs : 15 Valid With AC: 0.9091999959945679 With Loss: 0.28400275192260743\n",
      "epochs : 16 Valid With AC: 0.8743999981880188 With Loss: 0.34983364028930664\n",
      "epochs : 17 Valid With AC: 0.8949999976158142 With Loss: 0.3193681640625\n",
      "epochs : 18 Valid With AC: 0.9026000022888183 With Loss: 0.28890400772094726\n",
      "epochs : 19 Valid With AC: 0.8971999979019165 With Loss: 0.32750126113891603\n",
      "epochs : 20 Valid With AC: 0.9120000004768372 With Loss: 0.2643548645019531\n",
      "epochs : 21 Valid With AC: 0.9183999991416931 With Loss: 0.24921202354431152\n",
      "epochs : 22 Valid With AC: 0.9278000020980834 With Loss: 0.23827063713073732\n",
      "epochs : 23 Valid With AC: 0.8965999937057495 With Loss: 0.3047634330749512\n",
      "epochs : 24 Valid With AC: 0.9292000031471253 With Loss: 0.2170875461578369\n",
      "epochs : 25 Valid With AC: 0.9347999954223633 With Loss: 0.20790202178955078\n",
      "epochs : 26 Valid With AC: 0.9342000007629394 With Loss: 0.20061925354003907\n",
      "epochs : 27 Valid With AC: 0.9280000066757202 With Loss: 0.22350170288085938\n",
      "epochs : 28 Valid With AC: 0.9365999937057495 With Loss: 0.18875729446411132\n",
      "epochs : 29 Valid With AC: 0.8913999962806701 With Loss: 0.33653243713378905\n",
      "epochs : 30 Valid With AC: 0.8958000016212463 With Loss: 0.30853771743774416\n",
      "epochs : 31 Valid With AC: 0.9325999999046326 With Loss: 0.20991342277526856\n",
      "epochs : 32 Valid With AC: 0.9114000082015992 With Loss: 0.26867317428588866\n",
      "epochs : 33 Valid With AC: 0.9084000015258789 With Loss: 0.27008310623168946\n",
      "Early stop at epoch  28\n"
     ]
    }
   ],
   "source": [
    "ONE_MODEL_prefix = \"1229_ONEMODEL\"\n",
    "ONE_MODEL_name = \"{}\".format(PRE_MODEL_prefix)\n",
    "my_model.build_model(PRE_MODEL_name)\n",
    "my_model.training((s2_validation[5000:, :, :, :], label_validation[5000:,:]), \n",
    "                  (s2_validation[:5000, :, :, :], label_validation[:5000,:]), \n",
    "                  model_name=ONE_MODEL_name, epochs=50, early_stop=5, is_shuffle=True)"
   ]
  },
  {
   "cell_type": "markdown",
   "metadata": {},
   "source": [
    "# CV Training"
   ]
  },
  {
   "cell_type": "code",
   "execution_count": 5,
   "metadata": {
    "collapsed": true
   },
   "outputs": [],
   "source": [
    "MODEL_Prefix = \"0105_PRET_AUG_5CV_ES5\"\n",
    "N = 5\n",
    "kflod_turns = 1"
   ]
  },
  {
   "cell_type": "code",
   "execution_count": 6,
   "metadata": {
    "collapsed": true
   },
   "outputs": [
    {
     "name": "stdout",
     "output_type": "stream",
     "text": [
      "0 ; Train: [ 4824  4825  4826 ... 24116 24117 24118] | test: [   0    1    2 ... 4821 4822 4823]\n",
      "Model Build Start!\n",
      "Model Build Success!\n",
      "INFO:tensorflow:Restoring parameters from ..\\ckpt\\0105_PRETRAINING_NOGRAFT.ckpt\n",
      "epochs : 0 Valid With AC: 0.8389333295822143 With Loss: 0.49961606780094886\n",
      "epochs : 1 Valid With AC: 0.8825999999046326 With Loss: 0.34508535162133364\n",
      "epochs : 2 Valid With AC: 0.9114000058174133 With Loss: 0.25164514117770725\n",
      "epochs : 3 Valid With AC: 0.9077333354949951 With Loss: 0.26209117642682583\n",
      "epochs : 4 Valid With AC: 0.9193999981880188 With Loss: 0.24305433420399528\n",
      "epochs : 5 Valid With AC: 0.9258666634559631 With Loss: 0.20772037023730935\n",
      "epochs : 6 Valid With AC: 0.9295333313941956 With Loss: 0.19414026780705745\n",
      "epochs : 7 Valid With AC: 0.9274000000953674 With Loss: 0.21046173631848386\n",
      "epochs : 8 Valid With AC: 0.9306000018119812 With Loss: 0.19651911873524858\n",
      "epochs : 9 Valid With AC: 0.9388666653633118 With Loss: 0.17546857510435443\n",
      "epochs : 10 Valid With AC: 0.9328666663169861 With Loss: 0.19315584816940587\n",
      "epochs : 11 Valid With AC: 0.9251333355903626 With Loss: 0.2105670188789937\n",
      "epochs : 12 Valid With AC: 0.9245333313941956 With Loss: 0.2219694352663967\n",
      "epochs : 13 Valid With AC: 0.9423999929428101 With Loss: 0.17411189253255108\n",
      "epochs : 14 Valid With AC: 0.9392666673660278 With Loss: 0.1677940277317863\n",
      "epochs : 15 Valid With AC: 0.9391333293914795 With Loss: 0.16569906660968786\n",
      "epochs : 16 Valid With AC: 0.9483999943733216 With Loss: 0.14709021222729785\n",
      "epochs : 17 Valid With AC: 0.9455333304405212 With Loss: 0.14936785950984924\n",
      "epochs : 18 Valid With AC: 0.9437333273887635 With Loss: 0.1522784458464058\n",
      "epochs : 19 Valid With AC: 0.9484666585922241 With Loss: 0.14513375282682986\n",
      "epochs : 20 Valid With AC: 0.9441999959945678 With Loss: 0.15761348817676651\n",
      "epochs : 21 Valid With AC: 0.947733325958252 With Loss: 0.1487930098774026\n",
      "epochs : 22 Valid With AC: 0.9551999974250793 With Loss: 0.12094930669363854\n",
      "epochs : 23 Valid With AC: 0.9503333330154419 With Loss: 0.13944949755818886\n",
      "epochs : 24 Valid With AC: 0.9514666628837586 With Loss: 0.13434474637259297\n",
      "epochs : 25 Valid With AC: 0.9519333314895629 With Loss: 0.1418567601325698\n",
      "epochs : 26 Valid With AC: 0.9518666601181031 With Loss: 0.13527887871807093\n",
      "epochs : 27 Valid With AC: 0.950399992465973 With Loss: 0.14501105572651474\n",
      "Early stop at epoch  22\n",
      "Training time using: 185.15859055519104\n",
      "1 ; Train: [    0     1     2 ... 24116 24117 24118] | test: [4824 4825 4826 ... 9645 9646 9647]\n",
      "Model Build Start!\n",
      "Model Build Success!\n",
      "INFO:tensorflow:Restoring parameters from ..\\ckpt\\0105_PRETRAINING_NOGRAFT.ckpt\n",
      "epochs : 0 Valid With AC: 0.8432666659355164 With Loss: 0.4812941622378221\n",
      "epochs : 1 Valid With AC: 0.8738666653633118 With Loss: 0.35748451819665\n",
      "epochs : 2 Valid With AC: 0.9038666605949401 With Loss: 0.27000386086269396\n",
      "epochs : 3 Valid With AC: 0.9131999969482422 With Loss: 0.25953783878244174\n",
      "epochs : 4 Valid With AC: 0.911533329486847 With Loss: 0.23632279557375171\n",
      "epochs : 5 Valid With AC: 0.920799994468689 With Loss: 0.2328090906933963\n",
      "epochs : 6 Valid With AC: 0.9288666725158692 With Loss: 0.21195138251998927\n",
      "epochs : 7 Valid With AC: 0.929333336353302 With Loss: 0.20300331281785347\n",
      "epochs : 8 Valid With AC: 0.9313333344459533 With Loss: 0.19329029252477745\n",
      "epochs : 9 Valid With AC: 0.9440666699409485 With Loss: 0.16405508431233776\n",
      "epochs : 10 Valid With AC: 0.9257999992370606 With Loss: 0.1967193740319652\n",
      "epochs : 11 Valid With AC: 0.9380000019073487 With Loss: 0.16744040810251315\n",
      "epochs : 12 Valid With AC: 0.9448666715621948 With Loss: 0.15890265677501114\n",
      "epochs : 13 Valid With AC: 0.9415999984741211 With Loss: 0.16389754083421496\n",
      "epochs : 14 Valid With AC: 0.930666663646698 With Loss: 0.204977041057884\n",
      "epochs : 15 Valid With AC: 0.9401999998092652 With Loss: 0.16173292333213843\n",
      "epochs : 16 Valid With AC: 0.952733325958252 With Loss: 0.1487336901092213\n",
      "epochs : 17 Valid With AC: 0.9527333331108093 With Loss: 0.1446433081160335\n",
      "epochs : 18 Valid With AC: 0.944866669178009 With Loss: 0.1607490926239621\n",
      "epochs : 19 Valid With AC: 0.9497333288192749 With Loss: 0.15051101995740165\n",
      "epochs : 20 Valid With AC: 0.9537333273887634 With Loss: 0.12764833934271513\n",
      "epochs : 21 Valid With AC: 0.9494666671752929 With Loss: 0.14278856735324386\n",
      "epochs : 22 Valid With AC: 0.9487999987602234 With Loss: 0.14660758857505635\n",
      "epochs : 23 Valid With AC: 0.9459333324432373 With Loss: 0.1741820400824792\n",
      "epochs : 24 Valid With AC: 0.9500666618347168 With Loss: 0.15364250041556793\n",
      "epochs : 25 Valid With AC: 0.9552666664123535 With Loss: 0.13236345481714404\n",
      "Early stop at epoch  20\n",
      "Training time using: 174.59998655319214\n",
      "2 ; Train: [    0     1     2 ... 24116 24117 24118] | test: [ 9648  9649  9650 ... 14469 14470 14471]\n",
      "Model Build Start!\n",
      "Model Build Success!\n",
      "INFO:tensorflow:Restoring parameters from ..\\ckpt\\0105_PRETRAINING_NOGRAFT.ckpt\n",
      "epochs : 0 Valid With AC: 0.8681333327293396 With Loss: 0.41209579897954884\n",
      "epochs : 1 Valid With AC: 0.8965333342552185 With Loss: 0.3138607886695545\n",
      "epochs : 2 Valid With AC: 0.9005333304405212 With Loss: 0.2886803318216631\n",
      "epochs : 3 Valid With AC: 0.9053333306312561 With Loss: 0.2806345862931082\n",
      "epochs : 4 Valid With AC: 0.918733332157135 With Loss: 0.24245862759167874\n",
      "epochs : 5 Valid With AC: 0.9205333328247071 With Loss: 0.22324614768004536\n",
      "epochs : 6 Valid With AC: 0.9377333378791809 With Loss: 0.18872592006354388\n",
      "epochs : 7 Valid With AC: 0.9407333350181579 With Loss: 0.18479895087616954\n",
      "epochs : 8 Valid With AC: 0.9248666667938232 With Loss: 0.2151419457116135\n",
      "epochs : 9 Valid With AC: 0.9413333320617676 With Loss: 0.18041385569382662\n",
      "epochs : 10 Valid With AC: 0.9322666668891907 With Loss: 0.19697652626195752\n",
      "epochs : 11 Valid With AC: 0.9373333334922791 With Loss: 0.17905773442380662\n",
      "epochs : 12 Valid With AC: 0.9349333333969116 With Loss: 0.18388640460485645\n",
      "epochs : 13 Valid With AC: 0.9491333270072937 With Loss: 0.15340536130996882\n",
      "epochs : 14 Valid With AC: 0.9391333317756653 With Loss: 0.17616848630296256\n",
      "epochs : 15 Valid With AC: 0.9422666668891907 With Loss: 0.16358693094791266\n",
      "epochs : 16 Valid With AC: 0.9493333268165588 With Loss: 0.1530201994067994\n",
      "epochs : 17 Valid With AC: 0.9373333334922791 With Loss: 0.18294167009554493\n",
      "epochs : 18 Valid With AC: 0.948133327960968 With Loss: 0.14679444953181456\n",
      "epochs : 19 Valid With AC: 0.949133324623108 With Loss: 0.14765943460796602\n",
      "epochs : 20 Valid With AC: 0.9387333321571351 With Loss: 0.18727029627729608\n",
      "epochs : 21 Valid With AC: 0.9352666664123536 With Loss: 0.18036050148073515\n",
      "epochs : 22 Valid With AC: 0.9533333253860473 With Loss: 0.13780085137036704\n",
      "epochs : 23 Valid With AC: 0.9533333277702332 With Loss: 0.1370395440762711\n",
      "epochs : 24 Valid With AC: 0.9501333284378052 With Loss: 0.15440881949159044\n",
      "epochs : 25 Valid With AC: 0.961333327293396 With Loss: 0.11534072480984588\n",
      "epochs : 26 Valid With AC: 0.9535999917984008 With Loss: 0.14589039796027378\n",
      "epochs : 27 Valid With AC: 0.9469333291053772 With Loss: 0.15581524851508005\n",
      "epochs : 28 Valid With AC: 0.9577333283424377 With Loss: 0.13230957923639275\n",
      "epochs : 29 Valid With AC: 0.9406666660308838 With Loss: 0.2370610459526973\n",
      "epochs : 30 Valid With AC: 0.9541333270072937 With Loss: 0.13700850201681083\n",
      "Early stop at epoch  25\n",
      "Training time using: 215.77534174919128\n",
      "3 ; Train: [    0     1     2 ... 24116 24117 24118] | test: [14472 14473 14474 ... 19293 19294 19295]\n",
      "Model Build Start!\n",
      "Model Build Success!\n",
      "INFO:tensorflow:Restoring parameters from ..\\ckpt\\0105_PRETRAINING_NOGRAFT.ckpt\n",
      "epochs : 0 Valid With AC: 0.8456666707992554 With Loss: 0.48061801485754363\n",
      "epochs : 1 Valid With AC: 0.879266664981842 With Loss: 0.33781549141774725\n",
      "epochs : 2 Valid With AC: 0.9099999976158142 With Loss: 0.2653361705207508\n",
      "epochs : 3 Valid With AC: 0.9182000088691712 With Loss: 0.23636940442902926\n",
      "epochs : 4 Valid With AC: 0.9099999976158142 With Loss: 0.2624214492231657\n",
      "epochs : 5 Valid With AC: 0.9332666683197022 With Loss: 0.21113551789848364\n",
      "epochs : 6 Valid With AC: 0.9196666717529297 With Loss: 0.23294374015596178\n",
      "epochs : 7 Valid With AC: 0.9411333322525024 With Loss: 0.1852526572806325\n",
      "epochs : 8 Valid With AC: 0.9298000049591064 With Loss: 0.2094643669539621\n"
     ]
    },
    {
     "name": "stdout",
     "output_type": "stream",
     "text": [
      "epochs : 9 Valid With AC: 0.9355333375930787 With Loss: 0.1866436912052667\n",
      "epochs : 10 Valid With AC: 0.923199999332428 With Loss: 0.2272977019423869\n",
      "epochs : 11 Valid With AC: 0.9454666638374328 With Loss: 0.1648315113179917\n",
      "epochs : 12 Valid With AC: 0.9545999956130982 With Loss: 0.154181748999292\n",
      "epochs : 13 Valid With AC: 0.9597999930381775 With Loss: 0.13259483337600037\n",
      "epochs : 14 Valid With AC: 0.941933331489563 With Loss: 0.1819748330867508\n",
      "epochs : 15 Valid With AC: 0.9406666684150696 With Loss: 0.1618593860028395\n",
      "epochs : 16 Valid With AC: 0.9513999962806702 With Loss: 0.16259710784772932\n",
      "epochs : 17 Valid With AC: 0.9398000001907348 With Loss: 0.1949467030330677\n",
      "epochs : 18 Valid With AC: 0.9425333333015442 With Loss: 0.19964015207085048\n",
      "Early stop at epoch  13\n",
      "Training time using: 146.53238129615784\n",
      "4 ; Train: [    0     1     2 ... 19293 19294 19295] | test: [19296 19297 19298 ... 24116 24117 24118]\n",
      "Model Build Start!\n",
      "Model Build Success!\n",
      "INFO:tensorflow:Restoring parameters from ..\\ckpt\\0105_PRETRAINING_NOGRAFT.ckpt\n",
      "epochs : 0 Valid With AC: 0.8313217425346374 With Loss: 0.5108707185951279\n",
      "epochs : 1 Valid With AC: 0.8959999942779541 With Loss: 0.3200450670217395\n",
      "epochs : 2 Valid With AC: 0.90066086769104 With Loss: 0.2955469011444781\n",
      "epochs : 3 Valid With AC: 0.9091217350959778 With Loss: 0.2725439683644079\n",
      "epochs : 4 Valid With AC: 0.9200000023841858 With Loss: 0.2412841686835656\n",
      "epochs : 5 Valid With AC: 0.9169217324256898 With Loss: 0.249944065508446\n",
      "epochs : 6 Valid With AC: 0.923321738243103 With Loss: 0.22908530639657929\n",
      "epochs : 7 Valid With AC: 0.9188608694076538 With Loss: 0.2374316703820906\n",
      "epochs : 8 Valid With AC: 0.9343217420578003 With Loss: 0.20376928456215698\n",
      "epochs : 9 Valid With AC: 0.9191217398643494 With Loss: 0.24539360000512275\n",
      "epochs : 10 Valid With AC: 0.9266608691215515 With Loss: 0.24259305697319888\n",
      "epochs : 11 Valid With AC: 0.92992173910141 With Loss: 0.22630712824344337\n",
      "epochs : 12 Valid With AC: 0.9378608703613281 With Loss: 0.19591572075594071\n",
      "epochs : 13 Valid With AC: 0.9312608695030212 With Loss: 0.21745526872184448\n",
      "epochs : 14 Valid With AC: 0.9403999996185303 With Loss: 0.18198891873555437\n",
      "epochs : 15 Valid With AC: 0.9504608702659607 With Loss: 0.1578227772199586\n",
      "epochs : 16 Valid With AC: 0.9454608702659607 With Loss: 0.1728541469415787\n",
      "epochs : 17 Valid With AC: 0.9266608691215515 With Loss: 0.22302902612403397\n",
      "epochs : 18 Valid With AC: 0.947060866355896 With Loss: 0.169129635421117\n",
      "epochs : 19 Valid With AC: 0.9423217391967773 With Loss: 0.17096588934404633\n",
      "epochs : 20 Valid With AC: 0.9444608688354492 With Loss: 0.18285417151406622\n",
      "Early stop at epoch  15\n",
      "Training time using: 151.11064314842224\n"
     ]
    }
   ],
   "source": [
    "from sklearn.model_selection import StratifiedKFold\n",
    "for kflod_turn in range(kflod_turns):\n",
    "    sfolder = StratifiedKFold(n_splits=N, random_state=kflod_turn, shuffle=False)\n",
    "    for i, (train_loc, vali_loc) in enumerate(sfolder.split(np.zeros((vali_num, 1)), np.zeros(vali_num))):\n",
    "        _id = i + N * kflod_turn\n",
    "        print(_id, '; Train: %s | test: %s' % (train_loc, vali_loc))\n",
    "        \n",
    "        X_optical_train = s2_validation[train_loc, :, :, :]\n",
    "        y_train = label_validation[train_loc, :]\n",
    "        \n",
    "        X_optical_vali = s2_validation[vali_loc, :, :, :]\n",
    "        y_vali = label_validation[vali_loc, :]\n",
    "        \n",
    "        my_model.build_model(\"{}{}\".format(MODEL_Prefix, _id))\n",
    "        my_model.training((X_optical_train, y_train), (X_optical_vali, y_vali), is_freeze=False, \n",
    "                          model_name=\"{}{}\".format(MODEL_Prefix, _id), epochs=100, early_stop=5, \n",
    "                          is_shuffle=True, restore_name=\"0105_PRETRAINING_NOGRAFT\")"
   ]
  },
  {
   "cell_type": "markdown",
   "metadata": {},
   "source": [
    "# CV Test "
   ]
  },
  {
   "cell_type": "code",
   "execution_count": 9,
   "metadata": {
    "collapsed": true
   },
   "outputs": [],
   "source": [
    "MODEL_Prefix = \"0105_PRET_AUG_5CV_ES5\"\n",
    "N = 5"
   ]
  },
  {
   "cell_type": "code",
   "execution_count": 10,
   "metadata": {},
   "outputs": [
    {
     "name": "stdout",
     "output_type": "stream",
     "text": [
      "Model Build Start!\n",
      "Model Build Success!\n",
      "INFO:tensorflow:Restoring parameters from ../ckpt/0105_PRET_AUG_5CV_ES50.ckpt\n",
      "Model Build Start!\n",
      "Model Build Success!\n",
      "INFO:tensorflow:Restoring parameters from ../ckpt/0105_PRET_AUG_5CV_ES51.ckpt\n",
      "Model Build Start!\n",
      "Model Build Success!\n",
      "INFO:tensorflow:Restoring parameters from ../ckpt/0105_PRET_AUG_5CV_ES52.ckpt\n",
      "Model Build Start!\n",
      "Model Build Success!\n",
      "INFO:tensorflow:Restoring parameters from ../ckpt/0105_PRET_AUG_5CV_ES53.ckpt\n",
      "Model Build Start!\n",
      "Model Build Success!\n",
      "INFO:tensorflow:Restoring parameters from ../ckpt/0105_PRET_AUG_5CV_ES54.ckpt\n"
     ]
    }
   ],
   "source": [
    "CV_proba = np.zeros((test_num, CLASS_NUM))\n",
    "for i in range(N * kflod_turns):\n",
    "    my_model.build_model(\"{}{}\".format(MODEL_Prefix, i))\n",
    "    CV_proba += my_model.batch_predict(s2_test, \"{}{}\".format(MODEL_Prefix, i))"
   ]
  },
  {
   "cell_type": "code",
   "execution_count": 11,
   "metadata": {
    "collapsed": true
   },
   "outputs": [],
   "source": [
    "CV_proba_max_loc = np.argmax(CV_proba, 1)\n",
    "one_hot=tf.one_hot(CV_proba_max_loc,CLASS_NUM)\n",
    "with tf.Session() as sess:\n",
    "    _one_hot = sess.run(one_hot)\n",
    "_one_hot = _one_hot.astype(np.int16)\n",
    "pd.DataFrame(_one_hot).to_csv('../result/0105_AUG_PreT_5CV.csv'.format(N), index=False, header=None)"
   ]
  }
 ],
 "metadata": {
  "kernelspec": {
   "display_name": "Python 3",
   "language": "python",
   "name": "python3"
  },
  "language_info": {
   "codemirror_mode": {
    "name": "ipython",
    "version": 3
   },
   "file_extension": ".py",
   "mimetype": "text/x-python",
   "name": "python",
   "nbconvert_exporter": "python",
   "pygments_lexer": "ipython3",
   "version": "3.6.1"
  }
 },
 "nbformat": 4,
 "nbformat_minor": 2
}
