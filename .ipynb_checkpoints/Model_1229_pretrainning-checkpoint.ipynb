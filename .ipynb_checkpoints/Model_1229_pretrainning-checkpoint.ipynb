{
 "cells": [
  {
   "cell_type": "markdown",
   "metadata": {},
   "source": [
    "# Import necessary lib. \n"
   ]
  },
  {
   "cell_type": "code",
   "execution_count": 1,
   "metadata": {},
   "outputs": [
    {
     "name": "stderr",
     "output_type": "stream",
     "text": [
      "E:\\Liulicong\\Software\\Anaconda3\\lib\\site-packages\\h5py\\__init__.py:34: FutureWarning: Conversion of the second argument of issubdtype from `float` to `np.floating` is deprecated. In future, it will be treated as `np.float64 == np.dtype(float).type`.\n",
      "  from ._conv import register_converters as _register_converters\n"
     ]
    },
    {
     "name": "stdout",
     "output_type": "stream",
     "text": [
      "1.12.0\n"
     ]
    }
   ],
   "source": [
    "# TensorFlow and tf.keras\n",
    "import tensorflow as tf\n",
    "from tensorflow.contrib.layers import l1_l2_regularizer\n",
    "\n",
    "# Helper libraries\n",
    "import numpy as np\n",
    "import pandas as pd\n",
    "import matplotlib.pyplot as plt\n",
    "\n",
    "print(tf.__version__)\n",
    "\n",
    "import os\n",
    "import h5py\n",
    "import time\n",
    "# from batchnorm import batch_norm,fc_batch_norm\n",
    "\n",
    "from sklearn.metrics import accuracy_score,classification_report\n",
    "import Model_1229 as my_model"
   ]
  },
  {
   "cell_type": "markdown",
   "metadata": {},
   "source": [
    "# Configuration\n",
    "Set the class names and num (17).\n",
    "Set the data path (relative path). "
   ]
  },
  {
   "cell_type": "code",
   "execution_count": 2,
   "metadata": {
    "collapsed": true
   },
   "outputs": [],
   "source": [
    "# configuration\n",
    "# data attribution\n",
    "CLASS_NUM = 17\n",
    "CLASS_URBAN = ['Urban_Compact high-rise', 'Urban_Compact mid-rise', 'Urban_Compact low-rise',\n",
    "               'Urban_Open high-rise', 'Urban_Open mid-rise', 'Urban_Open low-rise',\n",
    "               'Urban_Lightweight low-rise', 'Large low-rise', 'Sparesly built', 'Heavy industry']\n",
    "CLASS_RURAL = ['Dense trees', 'Scattered trees', 'Bush and scrub', 'Low plants', 'Bare rock or paved', 'Bare soil or sand', 'Water']\n",
    "CLASS_NAME = CLASS_URBAN + CLASS_RURAL\n",
    "\n",
    "# data path\n",
    "base_dir = r'../data/'\n",
    "path_training = os.path.join(base_dir, 'training.h5')\n",
    "path_validation = os.path.join(base_dir, 'validation.h5')\n",
    "path_test = os.path.join(base_dir, 'round1_test_a_20181109.h5')\n",
    "# random\n",
    "np.random.seed(0)"
   ]
  },
  {
   "cell_type": "markdown",
   "metadata": {},
   "source": [
    "# Read Data\n",
    "Check the data foramt."
   ]
  },
  {
   "cell_type": "code",
   "execution_count": 35,
   "metadata": {
    "scrolled": false
   },
   "outputs": [
    {
     "name": "stdout",
     "output_type": "stream",
     "text": [
      "------------------------------------------------------------\n",
      "training part\n",
      "s1_training:  (352366, 32, 32, 8)\n",
      "s2_training:  (352366, 32, 32, 10)\n",
      "label_training:  (352366, 17)\n",
      "------------------------------------------------------------\n",
      "validation part\n",
      "s1_validation:  (24119, 32, 32, 8)\n",
      "s2_validation:  (24119, 32, 32, 10)\n",
      "label_validation:  (24119, 17)\n",
      "------------------------------------------------------------\n",
      "Test part\n",
      "s1_test:  (4838, 32, 32, 8)\n",
      "s2_test:  (4838, 32, 32, 10)\n"
     ]
    }
   ],
   "source": [
    "h5py_training = h5py.File(path_training,'r')\n",
    "h5py_validation = h5py.File(path_validation,'r')\n",
    "h5py_test = h5py.File(path_test, 'r')\n",
    "\n",
    "### get s1 image channel data\n",
    "### it is not really loaded into memory. only the indexes have been loaded.\n",
    "print(\"-\" * 60)\n",
    "print(\"training part\")\n",
    "s1_training = h5py_training['sen1']\n",
    "print('s1_training: ', s1_training.shape)\n",
    "s2_training = h5py_training['sen2']\n",
    "print('s2_training: ', s2_training.shape)\n",
    "label_training = h5py_training['label']\n",
    "print('label_training: ', label_training.shape)\n",
    "\n",
    "print(\"-\" * 60)\n",
    "print(\"validation part\")\n",
    "s1_validation = h5py_validation['sen1']\n",
    "print('s1_validation: ', s1_validation.shape)\n",
    "s2_validation = h5py_validation['sen2']\n",
    "print('s2_validation: ', s2_validation.shape)\n",
    "label_validation = h5py_validation['label']\n",
    "print('label_validation: ', label_validation.shape)\n",
    "\n",
    "print(\"-\" * 60)\n",
    "print(\"Test part\")\n",
    "s1_test = h5py_test['sen1']\n",
    "print('s1_test: ', s1_test.shape)\n",
    "s2_test = h5py_test['sen2']\n",
    "print('s2_test: ', s2_test.shape)\n",
    "\n",
    "\n",
    "train_num, pixel_x, pixel_y, sar_bands = s1_training.shape\n",
    "vali_num, pixel_x, pixel_y, optical_bands = s2_validation.shape\n",
    "test_num = s1_test.shape[0]"
   ]
  },
  {
   "cell_type": "markdown",
   "metadata": {},
   "source": [
    "# Pre Training"
   ]
  },
  {
   "cell_type": "code",
   "execution_count": 32,
   "metadata": {},
   "outputs": [
    {
     "name": "stdout",
     "output_type": "stream",
     "text": [
      "Model Build Start!\n",
      "Model Build Success!\n",
      "epochs : 0 Valid With AC: 0.12580700089369923 With Loss: 4.382155102349775\n",
      "epochs : 1 Valid With AC: 0.49701645822564433 With Loss: 1.899175987684923\n",
      "epochs : 2 Valid With AC: 0.539333981915939 With Loss: 1.5501714830024111\n",
      "epochs : 3 Valid With AC: 0.5959903479607638 With Loss: 1.4215851943535098\n",
      "epochs : 4 Valid With AC: 0.5788961047968588 With Loss: 1.5918114170011357\n"
     ]
    }
   ],
   "source": [
    "PRE_MODEL_prefix = \"1229_PRETRAINING\"\n",
    "PRE_MODEL_name = \"{}\".format(PRE_MODEL_prefix)\n",
    "my_model.build_model(PRE_MODEL_name)\n",
    "my_model.training((s2_training[:50000,:,:,:], label_training[:50000,:]), \n",
    "                  (s2_validation, label_validation), model_name=PRE_MODEL_name, epochs=5)"
   ]
  },
  {
   "cell_type": "markdown",
   "metadata": {},
   "source": [
    "# One Model Training"
   ]
  },
  {
   "cell_type": "code",
   "execution_count": 49,
   "metadata": {
    "collapsed": true
   },
   "outputs": [
    {
     "name": "stdout",
     "output_type": "stream",
     "text": [
      "Model Build Start!\n",
      "Model Build Success!\n",
      "epochs : 0 Valid With AC: 0.11339999973773957 With Loss: 5.050211242675781\n",
      "epochs : 1 Valid With AC: 0.11339999973773957 With Loss: 5.938496801757813\n",
      "epochs : 2 Valid With AC: 0.12200000077486038 With Loss: 5.096493896484375\n",
      "epochs : 3 Valid With AC: 0.18259999960660933 With Loss: 4.234229638671875\n",
      "epochs : 4 Valid With AC: 0.49139999866485595 With Loss: 1.911457586669922\n",
      "epochs : 5 Valid With AC: 0.7699999976158142 With Loss: 0.7632871765136718\n",
      "epochs : 6 Valid With AC: 0.8138000035285949 With Loss: 0.6028267807006836\n",
      "epochs : 7 Valid With AC: 0.8446000003814698 With Loss: 0.47860005493164065\n",
      "epochs : 8 Valid With AC: 0.8738000011444091 With Loss: 0.38220713348388674\n",
      "epochs : 9 Valid With AC: 0.8416000056266785 With Loss: 0.46222345123291014\n",
      "epochs : 10 Valid With AC: 0.8867999958992004 With Loss: 0.35815686492919924\n",
      "epochs : 11 Valid With AC: 0.884399995803833 With Loss: 0.35007618560791015\n",
      "epochs : 12 Valid With AC: 0.8778000020980835 With Loss: 0.368726424407959\n",
      "epochs : 13 Valid With AC: 0.8846000027656555 With Loss: 0.34051246948242186\n",
      "epochs : 14 Valid With AC: 0.9015999960899354 With Loss: 0.2962829368591309\n",
      "epochs : 15 Valid With AC: 0.9091999959945679 With Loss: 0.28400275192260743\n",
      "epochs : 16 Valid With AC: 0.8743999981880188 With Loss: 0.34983364028930664\n",
      "epochs : 17 Valid With AC: 0.8949999976158142 With Loss: 0.3193681640625\n",
      "epochs : 18 Valid With AC: 0.9026000022888183 With Loss: 0.28890400772094726\n",
      "epochs : 19 Valid With AC: 0.8971999979019165 With Loss: 0.32750126113891603\n",
      "epochs : 20 Valid With AC: 0.9120000004768372 With Loss: 0.2643548645019531\n",
      "epochs : 21 Valid With AC: 0.9183999991416931 With Loss: 0.24921202354431152\n",
      "epochs : 22 Valid With AC: 0.9278000020980834 With Loss: 0.23827063713073732\n",
      "epochs : 23 Valid With AC: 0.8965999937057495 With Loss: 0.3047634330749512\n",
      "epochs : 24 Valid With AC: 0.9292000031471253 With Loss: 0.2170875461578369\n",
      "epochs : 25 Valid With AC: 0.9347999954223633 With Loss: 0.20790202178955078\n",
      "epochs : 26 Valid With AC: 0.9342000007629394 With Loss: 0.20061925354003907\n",
      "epochs : 27 Valid With AC: 0.9280000066757202 With Loss: 0.22350170288085938\n",
      "epochs : 28 Valid With AC: 0.9365999937057495 With Loss: 0.18875729446411132\n",
      "epochs : 29 Valid With AC: 0.8913999962806701 With Loss: 0.33653243713378905\n",
      "epochs : 30 Valid With AC: 0.8958000016212463 With Loss: 0.30853771743774416\n",
      "epochs : 31 Valid With AC: 0.9325999999046326 With Loss: 0.20991342277526856\n",
      "epochs : 32 Valid With AC: 0.9114000082015992 With Loss: 0.26867317428588866\n",
      "epochs : 33 Valid With AC: 0.9084000015258789 With Loss: 0.27008310623168946\n",
      "Early stop at epoch  28\n"
     ]
    }
   ],
   "source": [
    "ONE_MODEL_prefix = \"1229_ONEMODEL\"\n",
    "ONE_MODEL_name = \"{}\".format(PRE_MODEL_prefix)\n",
    "my_model.build_model(PRE_MODEL_name)\n",
    "my_model.training((s2_validation[5000:, :, :, :], label_validation[5000:,:]), \n",
    "                  (s2_validation[:5000, :, :, :], label_validation[:5000,:]), \n",
    "                  model_name=ONE_MODEL_name, epochs=50, early_stop=5, is_shuffle=True)"
   ]
  },
  {
   "cell_type": "markdown",
   "metadata": {},
   "source": [
    "# CV Training"
   ]
  },
  {
   "cell_type": "code",
   "execution_count": 50,
   "metadata": {
    "scrolled": true
   },
   "outputs": [
    {
     "data": {
      "text/plain": [
       "<module 'Model_1229' from 'E:\\\\Liulicong\\\\Kaggle\\\\sentinel\\\\src\\\\Model_1229.py'>"
      ]
     },
     "execution_count": 50,
     "metadata": {},
     "output_type": "execute_result"
    }
   ],
   "source": [
    "from imp import reload\n",
    "reload(my_model)"
   ]
  },
  {
   "cell_type": "code",
   "execution_count": null,
   "metadata": {
    "collapsed": true
   },
   "outputs": [],
   "source": [
    "MODEL_Prefix = \"SHUFFLE_FALSE_New_Model\"\n",
    "N = 5\n",
    "kflod_turns = 1"
   ]
  },
  {
   "cell_type": "code",
   "execution_count": null,
   "metadata": {},
   "outputs": [
    {
     "name": "stdout",
     "output_type": "stream",
     "text": [
      "0 ; Train: [ 4824  4825  4826 ... 24116 24117 24118] | test: [   0    1    2 ... 4821 4822 4823]\n",
      "Model Build Start!\n",
      "Model Build Success!\n",
      "epochs : 0 Valid With AC: 0.11359999984502793 With Loss: 3.8754233618083087\n",
      "epochs : 1 Valid With AC: 0.11359999984502793 With Loss: 4.2893056853691345\n",
      "epochs : 2 Valid With AC: 0.12639999985694886 With Loss: 4.733606597875085\n",
      "epochs : 3 Valid With AC: 0.20546666622161866 With Loss: 3.4360282765099064\n",
      "epochs : 4 Valid With AC: 0.5666666686534881 With Loss: 1.5315565801971587\n",
      "epochs : 5 Valid With AC: 0.7220000004768372 With Loss: 0.8963925047695736\n",
      "epochs : 6 Valid With AC: 0.8451333332061768 With Loss: 0.48595711583917217\n",
      "epochs : 7 Valid With AC: 0.8481333374977111 With Loss: 0.4634843501285534\n",
      "epochs : 8 Valid With AC: 0.7772000026702881 With Loss: 0.7907963534492758\n",
      "epochs : 9 Valid With AC: 0.8447333288192749 With Loss: 0.4425640551011954\n",
      "epochs : 10 Valid With AC: 0.8795333337783814 With Loss: 0.3459531209164393\n",
      "epochs : 11 Valid With AC: 0.875533332824707 With Loss: 0.3783726484621342\n",
      "epochs : 12 Valid With AC: 0.8767333388328552 With Loss: 0.3578810581125035\n",
      "epochs : 13 Valid With AC: 0.8771333289146424 With Loss: 0.3832259411440164\n",
      "epochs : 14 Valid With AC: 0.8886000037193298 With Loss: 0.3429267015030135\n",
      "epochs : 15 Valid With AC: 0.8935999989509582 With Loss: 0.3247952807206617\n",
      "epochs : 16 Valid With AC: 0.9119333338737488 With Loss: 0.2621610639107168\n",
      "epochs : 17 Valid With AC: 0.8890000009536743 With Loss: 0.32726633014963635\n"
     ]
    }
   ],
   "source": [
    "from sklearn.model_selection import StratifiedKFold\n",
    "for kflod_turn in range(kflod_turns):\n",
    "    sfolder = StratifiedKFold(n_splits=N, random_state=kflod_turn, shuffle=False)\n",
    "    for i, (train_loc, vali_loc) in enumerate(sfolder.split(np.zeros((vali_num, 1)), np.zeros(vali_num))):\n",
    "        _id = i + N * kflod_turn\n",
    "        print(_id, '; Train: %s | test: %s' % (train_loc, vali_loc))\n",
    "        \n",
    "        X_optical_train = s2_validation[train_loc, :, :, :]\n",
    "        y_train = label_validation[train_loc, :]\n",
    "\n",
    "        X_optical_vali = s2_validation[vali_loc, :, :, :]\n",
    "        y_vali = label_validation[vali_loc, :]\n",
    "        \n",
    "        my_model.build_model(\"{}{}\".format(MODEL_Prefix, _id))\n",
    "        my_model.training((X_optical_train, y_train), (X_optical_vali, y_vali), \n",
    "                          model_name=\"{}{}\".format(MODEL_Prefix, _id), epochs=50, \n",
    "                          early_stop=5, is_shuffle=True)"
   ]
  },
  {
   "cell_type": "markdown",
   "metadata": {},
   "source": [
    "# CV Test "
   ]
  },
  {
   "cell_type": "code",
   "execution_count": null,
   "metadata": {
    "collapsed": true
   },
   "outputs": [],
   "source": [
    "MODEL_Prefix = \"SHUFFLE_FALSE_New_Model\""
   ]
  },
  {
   "cell_type": "code",
   "execution_count": 10,
   "metadata": {
    "collapsed": true
   },
   "outputs": [
    {
     "name": "stdout",
     "output_type": "stream",
     "text": [
      "Model Build Start!\n",
      "Model Build Success!\n",
      "INFO:tensorflow:Restoring parameters from ../ckpt/Multi_CV_baseline0.ckpt\n",
      "Model Build Start!\n",
      "Model Build Success!\n",
      "INFO:tensorflow:Restoring parameters from ../ckpt/Multi_CV_baseline1.ckpt\n",
      "Model Build Start!\n",
      "Model Build Success!\n",
      "INFO:tensorflow:Restoring parameters from ../ckpt/Multi_CV_baseline2.ckpt\n",
      "Model Build Start!\n",
      "Model Build Success!\n",
      "INFO:tensorflow:Restoring parameters from ../ckpt/Multi_CV_baseline3.ckpt\n",
      "Model Build Start!\n",
      "Model Build Success!\n",
      "INFO:tensorflow:Restoring parameters from ../ckpt/Multi_CV_baseline4.ckpt\n",
      "Model Build Start!\n",
      "Model Build Success!\n",
      "INFO:tensorflow:Restoring parameters from ../ckpt/Multi_CV_baseline5.ckpt\n",
      "Model Build Start!\n",
      "Model Build Success!\n",
      "INFO:tensorflow:Restoring parameters from ../ckpt/Multi_CV_baseline6.ckpt\n",
      "Model Build Start!\n",
      "Model Build Success!\n",
      "INFO:tensorflow:Restoring parameters from ../ckpt/Multi_CV_baseline7.ckpt\n",
      "Model Build Start!\n",
      "Model Build Success!\n",
      "INFO:tensorflow:Restoring parameters from ../ckpt/Multi_CV_baseline8.ckpt\n",
      "Model Build Start!\n",
      "Model Build Success!\n",
      "INFO:tensorflow:Restoring parameters from ../ckpt/Multi_CV_baseline9.ckpt\n",
      "Model Build Start!\n",
      "Model Build Success!\n",
      "INFO:tensorflow:Restoring parameters from ../ckpt/Multi_CV_baseline10.ckpt\n",
      "Model Build Start!\n",
      "Model Build Success!\n",
      "INFO:tensorflow:Restoring parameters from ../ckpt/Multi_CV_baseline11.ckpt\n",
      "Model Build Start!\n",
      "Model Build Success!\n",
      "INFO:tensorflow:Restoring parameters from ../ckpt/Multi_CV_baseline12.ckpt\n",
      "Model Build Start!\n",
      "Model Build Success!\n",
      "INFO:tensorflow:Restoring parameters from ../ckpt/Multi_CV_baseline13.ckpt\n",
      "Model Build Start!\n",
      "Model Build Success!\n",
      "INFO:tensorflow:Restoring parameters from ../ckpt/Multi_CV_baseline14.ckpt\n",
      "Model Build Start!\n",
      "Model Build Success!\n",
      "INFO:tensorflow:Restoring parameters from ../ckpt/Multi_CV_baseline15.ckpt\n",
      "Model Build Start!\n",
      "Model Build Success!\n",
      "INFO:tensorflow:Restoring parameters from ../ckpt/Multi_CV_baseline16.ckpt\n",
      "Model Build Start!\n",
      "Model Build Success!\n",
      "INFO:tensorflow:Restoring parameters from ../ckpt/Multi_CV_baseline17.ckpt\n",
      "Model Build Start!\n",
      "Model Build Success!\n",
      "INFO:tensorflow:Restoring parameters from ../ckpt/Multi_CV_baseline18.ckpt\n",
      "Model Build Start!\n",
      "Model Build Success!\n",
      "INFO:tensorflow:Restoring parameters from ../ckpt/Multi_CV_baseline19.ckpt\n",
      "Model Build Start!\n",
      "Model Build Success!\n",
      "INFO:tensorflow:Restoring parameters from ../ckpt/Multi_CV_baseline20.ckpt\n",
      "Model Build Start!\n",
      "Model Build Success!\n",
      "INFO:tensorflow:Restoring parameters from ../ckpt/Multi_CV_baseline21.ckpt\n",
      "Model Build Start!\n",
      "Model Build Success!\n",
      "INFO:tensorflow:Restoring parameters from ../ckpt/Multi_CV_baseline22.ckpt\n",
      "Model Build Start!\n",
      "Model Build Success!\n",
      "INFO:tensorflow:Restoring parameters from ../ckpt/Multi_CV_baseline23.ckpt\n",
      "Model Build Start!\n",
      "Model Build Success!\n",
      "INFO:tensorflow:Restoring parameters from ../ckpt/Multi_CV_baseline24.ckpt\n",
      "Model Build Start!\n",
      "Model Build Success!\n",
      "INFO:tensorflow:Restoring parameters from ../ckpt/Multi_CV_baseline25.ckpt\n",
      "Model Build Start!\n",
      "Model Build Success!\n",
      "INFO:tensorflow:Restoring parameters from ../ckpt/Multi_CV_baseline26.ckpt\n",
      "Model Build Start!\n",
      "Model Build Success!\n",
      "INFO:tensorflow:Restoring parameters from ../ckpt/Multi_CV_baseline27.ckpt\n",
      "Model Build Start!\n",
      "Model Build Success!\n",
      "INFO:tensorflow:Restoring parameters from ../ckpt/Multi_CV_baseline28.ckpt\n",
      "Model Build Start!\n",
      "Model Build Success!\n",
      "INFO:tensorflow:Restoring parameters from ../ckpt/Multi_CV_baseline29.ckpt\n",
      "Model Build Start!\n",
      "Model Build Success!\n",
      "INFO:tensorflow:Restoring parameters from ../ckpt/Multi_CV_baseline30.ckpt\n",
      "Model Build Start!\n",
      "Model Build Success!\n",
      "INFO:tensorflow:Restoring parameters from ../ckpt/Multi_CV_baseline31.ckpt\n",
      "Model Build Start!\n",
      "Model Build Success!\n",
      "INFO:tensorflow:Restoring parameters from ../ckpt/Multi_CV_baseline32.ckpt\n",
      "Model Build Start!\n",
      "Model Build Success!\n",
      "INFO:tensorflow:Restoring parameters from ../ckpt/Multi_CV_baseline33.ckpt\n",
      "Model Build Start!\n",
      "Model Build Success!\n",
      "INFO:tensorflow:Restoring parameters from ../ckpt/Multi_CV_baseline34.ckpt\n",
      "Model Build Start!\n",
      "Model Build Success!\n",
      "INFO:tensorflow:Restoring parameters from ../ckpt/Multi_CV_baseline35.ckpt\n",
      "Model Build Start!\n",
      "Model Build Success!\n",
      "INFO:tensorflow:Restoring parameters from ../ckpt/Multi_CV_baseline36.ckpt\n",
      "Model Build Start!\n",
      "Model Build Success!\n",
      "INFO:tensorflow:Restoring parameters from ../ckpt/Multi_CV_baseline37.ckpt\n",
      "Model Build Start!\n",
      "Model Build Success!\n",
      "INFO:tensorflow:Restoring parameters from ../ckpt/Multi_CV_baseline38.ckpt\n",
      "Model Build Start!\n",
      "Model Build Success!\n",
      "INFO:tensorflow:Restoring parameters from ../ckpt/Multi_CV_baseline39.ckpt\n",
      "Model Build Start!\n",
      "Model Build Success!\n",
      "INFO:tensorflow:Restoring parameters from ../ckpt/Multi_CV_baseline40.ckpt\n",
      "Model Build Start!\n",
      "Model Build Success!\n",
      "INFO:tensorflow:Restoring parameters from ../ckpt/Multi_CV_baseline41.ckpt\n",
      "Model Build Start!\n",
      "Model Build Success!\n",
      "INFO:tensorflow:Restoring parameters from ../ckpt/Multi_CV_baseline42.ckpt\n",
      "Model Build Start!\n",
      "Model Build Success!\n",
      "INFO:tensorflow:Restoring parameters from ../ckpt/Multi_CV_baseline43.ckpt\n",
      "Model Build Start!\n",
      "Model Build Success!\n",
      "INFO:tensorflow:Restoring parameters from ../ckpt/Multi_CV_baseline44.ckpt\n",
      "Model Build Start!\n",
      "Model Build Success!\n",
      "INFO:tensorflow:Restoring parameters from ../ckpt/Multi_CV_baseline45.ckpt\n",
      "Model Build Start!\n",
      "Model Build Success!\n",
      "INFO:tensorflow:Restoring parameters from ../ckpt/Multi_CV_baseline46.ckpt\n",
      "Model Build Start!\n",
      "Model Build Success!\n",
      "INFO:tensorflow:Restoring parameters from ../ckpt/Multi_CV_baseline47.ckpt\n",
      "Model Build Start!\n",
      "Model Build Success!\n",
      "INFO:tensorflow:Restoring parameters from ../ckpt/Multi_CV_baseline48.ckpt\n",
      "Model Build Start!\n",
      "Model Build Success!\n",
      "INFO:tensorflow:Restoring parameters from ../ckpt/Multi_CV_baseline49.ckpt\n"
     ]
    }
   ],
   "source": [
    "CV_proba = np.zeros((test_num, CLASS_NUM))\n",
    "for i in range(50):\n",
    "    my_model.build_model(\"{}{}\".format(MODEL_Prefix, i))\n",
    "    CV_proba += my_model.batch_predict(s2_test, \"{}{}\".format(MODEL_Prefix, i))"
   ]
  },
  {
   "cell_type": "code",
   "execution_count": 11,
   "metadata": {
    "collapsed": true
   },
   "outputs": [],
   "source": [
    "CV_proba_max_loc = np.argmax(CV_proba, 1)\n",
    "one_hot=tf.one_hot(CV_proba_max_loc,CLASS_NUM)\n",
    "with tf.Session() as sess:\n",
    "    _one_hot = sess.run(one_hot)\n",
    "_one_hot = _one_hot.astype(np.int16)\n",
    "pd.DataFrame(_one_hot).to_csv('../result/1229_deep_result_false{}.csv'.format(N), index=False, header=None)"
   ]
  }
 ],
 "metadata": {
  "kernelspec": {
   "display_name": "Python 3",
   "language": "python",
   "name": "python3"
  },
  "language_info": {
   "codemirror_mode": {
    "name": "ipython",
    "version": 3
   },
   "file_extension": ".py",
   "mimetype": "text/x-python",
   "name": "python",
   "nbconvert_exporter": "python",
   "pygments_lexer": "ipython3",
   "version": "3.6.1"
  }
 },
 "nbformat": 4,
 "nbformat_minor": 2
}
