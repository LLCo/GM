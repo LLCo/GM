{
 "cells": [
  {
   "cell_type": "markdown",
   "metadata": {},
   "source": [
    "# Import necessary lib. \n"
   ]
  },
  {
   "cell_type": "code",
   "execution_count": 1,
   "metadata": {},
   "outputs": [
    {
     "name": "stderr",
     "output_type": "stream",
     "text": [
      "E:\\Liulicong\\Software\\Anaconda3\\lib\\site-packages\\h5py\\__init__.py:34: FutureWarning: Conversion of the second argument of issubdtype from `float` to `np.floating` is deprecated. In future, it will be treated as `np.float64 == np.dtype(float).type`.\n",
      "  from ._conv import register_converters as _register_converters\n"
     ]
    },
    {
     "name": "stdout",
     "output_type": "stream",
     "text": [
      "1.12.0\n"
     ]
    }
   ],
   "source": [
    "# TensorFlow and tf.keras\n",
    "import tensorflow as tf\n",
    "from tensorflow.contrib.layers import l1_l2_regularizer\n",
    "\n",
    "# Helper libraries\n",
    "import numpy as np\n",
    "import pandas as pd\n",
    "import matplotlib.pyplot as plt\n",
    "\n",
    "print(tf.__version__)\n",
    "\n",
    "import os\n",
    "import h5py\n",
    "import time\n",
    "# from batchnorm import batch_norm,fc_batch_norm\n",
    "\n",
    "from sklearn.metrics import accuracy_score,classification_report\n",
    "import Model_1229 as my_model"
   ]
  },
  {
   "cell_type": "markdown",
   "metadata": {},
   "source": [
    "# Configuration\n",
    "Set the class names and num (17).\n",
    "Set the data path (relative path). "
   ]
  },
  {
   "cell_type": "code",
   "execution_count": 2,
   "metadata": {
    "collapsed": true
   },
   "outputs": [],
   "source": [
    "# configuration\n",
    "# data attribution\n",
    "CLASS_NUM = 17\n",
    "CLASS_URBAN = ['Urban_Compact high-rise', 'Urban_Compact mid-rise', 'Urban_Compact low-rise',\n",
    "               'Urban_Open high-rise', 'Urban_Open mid-rise', 'Urban_Open low-rise',\n",
    "               'Urban_Lightweight low-rise', 'Large low-rise', 'Sparesly built', 'Heavy industry']\n",
    "CLASS_RURAL = ['Dense trees', 'Scattered trees', 'Bush and scrub', 'Low plants', 'Bare rock or paved', 'Bare soil or sand', 'Water']\n",
    "CLASS_NAME = CLASS_URBAN + CLASS_RURAL\n",
    "\n",
    "# data path\n",
    "base_dir = r'../data/'\n",
    "path_training = os.path.join(base_dir, 'training.h5')\n",
    "path_validation = os.path.join(base_dir, 'validation.h5')\n",
    "path_test = os.path.join(base_dir, 'round1_test_a_20181109.h5')\n",
    "# random\n",
    "np.random.seed(0)"
   ]
  },
  {
   "cell_type": "markdown",
   "metadata": {},
   "source": [
    "# Read Data\n",
    "Check the data foramt."
   ]
  },
  {
   "cell_type": "code",
   "execution_count": 3,
   "metadata": {
    "scrolled": true
   },
   "outputs": [
    {
     "name": "stdout",
     "output_type": "stream",
     "text": [
      "------------------------------------------------------------\n",
      "training part\n",
      "s1_training:  (352366, 32, 32, 8)\n",
      "s2_training:  (352366, 32, 32, 10)\n",
      "label_training:  (352366, 17)\n",
      "------------------------------------------------------------\n",
      "validation part\n",
      "s1_validation:  (24119, 32, 32, 8)\n",
      "s2_validation:  (24119, 32, 32, 10)\n",
      "label_validation:  (24119, 17)\n",
      "------------------------------------------------------------\n",
      "Test part\n",
      "s1_test:  (4838, 32, 32, 8)\n",
      "s2_test:  (4838, 32, 32, 10)\n"
     ]
    }
   ],
   "source": [
    "h5py_training = h5py.File(path_training,'r')\n",
    "h5py_validation = h5py.File(path_validation,'r')\n",
    "h5py_test = h5py.File(path_test, 'r')\n",
    "\n",
    "### get s1 image channel data\n",
    "### it is not really loaded into memory. only the indexes have been loaded.\n",
    "print(\"-\" * 60)\n",
    "print(\"training part\")\n",
    "s1_training = h5py_training['sen1']\n",
    "print('s1_training: ', s1_training.shape)\n",
    "s2_training = h5py_training['sen2']\n",
    "print('s2_training: ', s2_training.shape)\n",
    "label_training = h5py_training['label']\n",
    "print('label_training: ', label_training.shape)\n",
    "\n",
    "print(\"-\" * 60)\n",
    "print(\"validation part\")\n",
    "s1_validation = h5py_validation['sen1']\n",
    "print('s1_validation: ', s1_validation.shape)\n",
    "s2_validation = h5py_validation['sen2']\n",
    "print('s2_validation: ', s2_validation.shape)\n",
    "label_validation = h5py_validation['label']\n",
    "print('label_validation: ', label_validation.shape)\n",
    "\n",
    "print(\"-\" * 60)\n",
    "print(\"Test part\")\n",
    "s1_test = h5py_test['sen1']\n",
    "print('s1_test: ', s1_test.shape)\n",
    "s2_test = h5py_test['sen2']\n",
    "print('s2_test: ', s2_test.shape)\n",
    "\n",
    "\n",
    "train_num, pixel_x, pixel_y, sar_bands = s1_training.shape\n",
    "vali_num, pixel_x, pixel_y, optical_bands = s2_validation.shape\n",
    "test_num = s1_test.shape[0]"
   ]
  },
  {
   "cell_type": "markdown",
   "metadata": {},
   "source": [
    "# Pre Training"
   ]
  },
  {
   "cell_type": "code",
   "execution_count": 6,
   "metadata": {},
   "outputs": [
    {
     "name": "stdout",
     "output_type": "stream",
     "text": [
      "Model Build Start!\n",
      "Model Build Success!\n",
      "epochs : 0 Valid With AC: 0.6162136256202193 With Loss: 1.3054363997729195\n",
      "epochs : 1 Valid With AC: 0.638200571714354 With Loss: 1.3769340254170241\n",
      "epochs : 2 Valid With AC: 0.6339145066324344 With Loss: 1.4240321337254942\n",
      "epochs : 3 Valid With AC: 0.5971886973735715 With Loss: 1.603286709001178\n",
      "epochs : 4 Valid With AC: 0.6034828818534032 With Loss: 1.6579199956668305\n",
      "epochs : 5 Valid With AC: 0.6118730449479474 With Loss: 1.6321172713837995\n",
      "epochs : 6 Valid With AC: 0.6087905395129496 With Loss: 1.7279509776830426\n",
      "epochs : 7 Valid With AC: 0.5876467131878719 With Loss: 1.7783923259624237\n",
      "epochs : 8 Valid With AC: 0.6098350596821998 With Loss: 1.9469587784006435\n",
      "epochs : 9 Valid With AC: 0.59836065030295 With Loss: 1.8746792566984356\n",
      "Training time using: 807.9498949050903\n"
     ]
    }
   ],
   "source": [
    "PRE_MODEL_prefix = \"1229_PRETRAINING\"\n",
    "PRE_MODEL_name = \"{}\".format(PRE_MODEL_prefix)\n",
    "my_model.build_model(PRE_MODEL_name)\n",
    "my_model.training((s2_training, label_training), (s2_validation, label_validation), \n",
    "                  model_name=PRE_MODEL_name, epochs=10)"
   ]
  },
  {
   "cell_type": "markdown",
   "metadata": {},
   "source": [
    "# One Model Training"
   ]
  },
  {
   "cell_type": "code",
   "execution_count": 49,
   "metadata": {
    "collapsed": true
   },
   "outputs": [
    {
     "name": "stdout",
     "output_type": "stream",
     "text": [
      "Model Build Start!\n",
      "Model Build Success!\n",
      "epochs : 0 Valid With AC: 0.11339999973773957 With Loss: 5.050211242675781\n",
      "epochs : 1 Valid With AC: 0.11339999973773957 With Loss: 5.938496801757813\n",
      "epochs : 2 Valid With AC: 0.12200000077486038 With Loss: 5.096493896484375\n",
      "epochs : 3 Valid With AC: 0.18259999960660933 With Loss: 4.234229638671875\n",
      "epochs : 4 Valid With AC: 0.49139999866485595 With Loss: 1.911457586669922\n",
      "epochs : 5 Valid With AC: 0.7699999976158142 With Loss: 0.7632871765136718\n",
      "epochs : 6 Valid With AC: 0.8138000035285949 With Loss: 0.6028267807006836\n",
      "epochs : 7 Valid With AC: 0.8446000003814698 With Loss: 0.47860005493164065\n",
      "epochs : 8 Valid With AC: 0.8738000011444091 With Loss: 0.38220713348388674\n",
      "epochs : 9 Valid With AC: 0.8416000056266785 With Loss: 0.46222345123291014\n",
      "epochs : 10 Valid With AC: 0.8867999958992004 With Loss: 0.35815686492919924\n",
      "epochs : 11 Valid With AC: 0.884399995803833 With Loss: 0.35007618560791015\n",
      "epochs : 12 Valid With AC: 0.8778000020980835 With Loss: 0.368726424407959\n",
      "epochs : 13 Valid With AC: 0.8846000027656555 With Loss: 0.34051246948242186\n",
      "epochs : 14 Valid With AC: 0.9015999960899354 With Loss: 0.2962829368591309\n",
      "epochs : 15 Valid With AC: 0.9091999959945679 With Loss: 0.28400275192260743\n",
      "epochs : 16 Valid With AC: 0.8743999981880188 With Loss: 0.34983364028930664\n",
      "epochs : 17 Valid With AC: 0.8949999976158142 With Loss: 0.3193681640625\n",
      "epochs : 18 Valid With AC: 0.9026000022888183 With Loss: 0.28890400772094726\n",
      "epochs : 19 Valid With AC: 0.8971999979019165 With Loss: 0.32750126113891603\n",
      "epochs : 20 Valid With AC: 0.9120000004768372 With Loss: 0.2643548645019531\n",
      "epochs : 21 Valid With AC: 0.9183999991416931 With Loss: 0.24921202354431152\n",
      "epochs : 22 Valid With AC: 0.9278000020980834 With Loss: 0.23827063713073732\n",
      "epochs : 23 Valid With AC: 0.8965999937057495 With Loss: 0.3047634330749512\n",
      "epochs : 24 Valid With AC: 0.9292000031471253 With Loss: 0.2170875461578369\n",
      "epochs : 25 Valid With AC: 0.9347999954223633 With Loss: 0.20790202178955078\n",
      "epochs : 26 Valid With AC: 0.9342000007629394 With Loss: 0.20061925354003907\n",
      "epochs : 27 Valid With AC: 0.9280000066757202 With Loss: 0.22350170288085938\n",
      "epochs : 28 Valid With AC: 0.9365999937057495 With Loss: 0.18875729446411132\n",
      "epochs : 29 Valid With AC: 0.8913999962806701 With Loss: 0.33653243713378905\n",
      "epochs : 30 Valid With AC: 0.8958000016212463 With Loss: 0.30853771743774416\n",
      "epochs : 31 Valid With AC: 0.9325999999046326 With Loss: 0.20991342277526856\n",
      "epochs : 32 Valid With AC: 0.9114000082015992 With Loss: 0.26867317428588866\n",
      "epochs : 33 Valid With AC: 0.9084000015258789 With Loss: 0.27008310623168946\n",
      "Early stop at epoch  28\n"
     ]
    }
   ],
   "source": [
    "ONE_MODEL_prefix = \"1229_ONEMODEL\"\n",
    "ONE_MODEL_name = \"{}\".format(PRE_MODEL_prefix)\n",
    "my_model.build_model(PRE_MODEL_name)\n",
    "my_model.training((s2_validation[5000:, :, :, :], label_validation[5000:,:]), \n",
    "                  (s2_validation[:5000, :, :, :], label_validation[:5000,:]), \n",
    "                  model_name=ONE_MODEL_name, epochs=50, early_stop=5, is_shuffle=True)"
   ]
  },
  {
   "cell_type": "markdown",
   "metadata": {},
   "source": [
    "# CV Training"
   ]
  },
  {
   "cell_type": "code",
   "execution_count": 5,
   "metadata": {
    "scrolled": true
   },
   "outputs": [
    {
     "data": {
      "text/plain": [
       "<module 'Model_1229' from 'E:\\\\Liulicong\\\\Kaggle\\\\sentinel\\\\src\\\\Model_1229.py'>"
      ]
     },
     "execution_count": 5,
     "metadata": {},
     "output_type": "execute_result"
    }
   ],
   "source": [
    "from imp import reload\n",
    "reload(my_model)"
   ]
  },
  {
   "cell_type": "code",
   "execution_count": 51,
   "metadata": {
    "collapsed": true
   },
   "outputs": [],
   "source": [
    "MODEL_Prefix = \"SHUFFLE_FALSE_New_Model\"\n",
    "N = 5\n",
    "kflod_turns = 1"
   ]
  },
  {
   "cell_type": "code",
   "execution_count": 52,
   "metadata": {
    "collapsed": true
   },
   "outputs": [
    {
     "name": "stdout",
     "output_type": "stream",
     "text": [
      "0 ; Train: [ 4824  4825  4826 ... 24116 24117 24118] | test: [   0    1    2 ... 4821 4822 4823]\n",
      "Model Build Start!\n",
      "Model Build Success!\n",
      "epochs : 0 Valid With AC: 0.11359999984502793 With Loss: 3.8754233618083087\n",
      "epochs : 1 Valid With AC: 0.11359999984502793 With Loss: 4.2893056853691345\n",
      "epochs : 2 Valid With AC: 0.12639999985694886 With Loss: 4.733606597875085\n",
      "epochs : 3 Valid With AC: 0.20546666622161866 With Loss: 3.4360282765099064\n",
      "epochs : 4 Valid With AC: 0.5666666686534881 With Loss: 1.5315565801971587\n",
      "epochs : 5 Valid With AC: 0.7220000004768372 With Loss: 0.8963925047695736\n",
      "epochs : 6 Valid With AC: 0.8451333332061768 With Loss: 0.48595711583917217\n",
      "epochs : 7 Valid With AC: 0.8481333374977111 With Loss: 0.4634843501285534\n",
      "epochs : 8 Valid With AC: 0.7772000026702881 With Loss: 0.7907963534492758\n",
      "epochs : 9 Valid With AC: 0.8447333288192749 With Loss: 0.4425640551011954\n",
      "epochs : 10 Valid With AC: 0.8795333337783814 With Loss: 0.3459531209164393\n",
      "epochs : 11 Valid With AC: 0.875533332824707 With Loss: 0.3783726484621342\n",
      "epochs : 12 Valid With AC: 0.8767333388328552 With Loss: 0.3578810581125035\n",
      "epochs : 13 Valid With AC: 0.8771333289146424 With Loss: 0.3832259411440164\n",
      "epochs : 14 Valid With AC: 0.8886000037193298 With Loss: 0.3429267015030135\n",
      "epochs : 15 Valid With AC: 0.8935999989509582 With Loss: 0.3247952807206617\n",
      "epochs : 16 Valid With AC: 0.9119333338737488 With Loss: 0.2621610639107168\n",
      "epochs : 17 Valid With AC: 0.8890000009536743 With Loss: 0.32726633014963635\n",
      "epochs : 18 Valid With AC: 0.9096666693687439 With Loss: 0.27405564939204735\n",
      "epochs : 19 Valid With AC: 0.9054000020027161 With Loss: 0.2725217980927298\n",
      "epochs : 20 Valid With AC: 0.8995999956130981 With Loss: 0.2958316514345742\n",
      "epochs : 21 Valid With AC: 0.9014666628837585 With Loss: 0.2889598608016968\n",
      "Early stop at epoch  16\n",
      "1 ; Train: [    0     1     2 ... 24116 24117 24118] | test: [4824 4825 4826 ... 9645 9646 9647]\n",
      "Model Build Start!\n",
      "Model Build Success!\n",
      "epochs : 0 Valid With AC: 0.10646666660904884 With Loss: 5.160653236098155\n",
      "epochs : 1 Valid With AC: 0.10646666660904884 With Loss: 5.5366066478773535\n",
      "epochs : 2 Valid With AC: 0.10686666682362557 With Loss: 6.161846483524759\n",
      "epochs : 3 Valid With AC: 0.2173999983072281 With Loss: 3.4129772091386332\n",
      "epochs : 4 Valid With AC: 0.663933334350586 With Loss: 1.16497005158989\n",
      "epochs : 5 Valid With AC: 0.758666672706604 With Loss: 0.7890933441680857\n",
      "epochs : 6 Valid With AC: 0.8175333309173584 With Loss: 0.5768952152226893\n",
      "epochs : 7 Valid With AC: 0.8501999950408936 With Loss: 0.428199295578509\n",
      "epochs : 8 Valid With AC: 0.8565333342552185 With Loss: 0.41691188669916407\n",
      "epochs : 9 Valid With AC: 0.8809999966621399 With Loss: 0.3424121963839428\n",
      "epochs : 10 Valid With AC: 0.8699333310127259 With Loss: 0.38344543213472637\n",
      "epochs : 11 Valid With AC: 0.8821333360671997 With Loss: 0.3437476185819205\n",
      "epochs : 12 Valid With AC: 0.8511333227157593 With Loss: 0.44145548284350344\n",
      "epochs : 13 Valid With AC: 0.8781333255767823 With Loss: 0.36272909431710565\n",
      "epochs : 14 Valid With AC: 0.89239999294281 With Loss: 0.31580418239580854\n",
      "epochs : 15 Valid With AC: 0.8609999918937683 With Loss: 0.41394110540450113\n",
      "epochs : 16 Valid With AC: 0.9093333339691162 With Loss: 0.2640065012088858\n",
      "epochs : 17 Valid With AC: 0.9059999918937683 With Loss: 0.2927591486356745\n",
      "epochs : 18 Valid With AC: 0.9040666651725769 With Loss: 0.2843374923291689\n",
      "epochs : 19 Valid With AC: 0.9089999985694885 With Loss: 0.27275813001503\n",
      "epochs : 20 Valid With AC: 0.8967999958992005 With Loss: 0.2896760105098263\n",
      "epochs : 21 Valid With AC: 0.9055333232879639 With Loss: 0.27200869165645114\n",
      "Early stop at epoch  16\n",
      "2 ; Train: [    0     1     2 ... 24116 24117 24118] | test: [ 9648  9649  9650 ... 14469 14470 14471]\n",
      "Model Build Start!\n",
      "Model Build Success!\n",
      "epochs : 0 Valid With AC: 0.10979999959468842 With Loss: 4.658633804637599\n",
      "epochs : 1 Valid With AC: 0.10979999959468842 With Loss: 4.895989098556797\n",
      "epochs : 2 Valid With AC: 0.1454666668176651 With Loss: 4.534382480096263\n",
      "epochs : 3 Valid With AC: 0.21553333222866058 With Loss: 4.077441451166004\n",
      "epochs : 4 Valid With AC: 0.4715999984741211 With Loss: 2.104612045224824\n",
      "epochs : 5 Valid With AC: 0.7373333382606506 With Loss: 0.9033228018588292\n",
      "epochs : 6 Valid With AC: 0.8274666643142701 With Loss: 0.5382200596146718\n",
      "epochs : 7 Valid With AC: 0.8900666618347168 With Loss: 0.3364001324718469\n",
      "epochs : 8 Valid With AC: 0.8829333281517029 With Loss: 0.35811887609820264\n",
      "epochs : 9 Valid With AC: 0.8603333330154419 With Loss: 0.4214232901040199\n",
      "epochs : 10 Valid With AC: 0.8833333349227905 With Loss: 0.3493833867076222\n",
      "epochs : 11 Valid With AC: 0.8753333353996277 With Loss: 0.35514467124322163\n",
      "epochs : 12 Valid With AC: 0.881466670036316 With Loss: 0.3697868872242385\n",
      "Early stop at epoch  7\n",
      "3 ; Train: [    0     1     2 ... 24116 24117 24118] | test: [14472 14473 14474 ... 19293 19294 19295]\n",
      "Model Build Start!\n",
      "Model Build Success!\n",
      "epochs : 0 Valid With AC: 0.11759999990463257 With Loss: 4.532838536732233\n",
      "epochs : 1 Valid With AC: 0.11759999990463257 With Loss: 5.826435829276469\n",
      "epochs : 2 Valid With AC: 0.11779999971389771 With Loss: 5.259171648800472\n",
      "epochs : 3 Valid With AC: 0.22219999849796296 With Loss: 3.33557391917923\n",
      "epochs : 4 Valid With AC: 0.4755333340167999 With Loss: 1.8904372795699642\n",
      "epochs : 5 Valid With AC: 0.6971333336830139 With Loss: 0.9590819874410803\n",
      "epochs : 6 Valid With AC: 0.876266667842865 With Loss: 0.37753871503358655\n",
      "epochs : 7 Valid With AC: 0.8399333357810974 With Loss: 0.4823312425297093\n",
      "epochs : 8 Valid With AC: 0.8798000025749206 With Loss: 0.3820160249770182\n",
      "epochs : 9 Valid With AC: 0.8866000008583069 With Loss: 0.34040634885158505\n",
      "epochs : 10 Valid With AC: 0.8754000043869019 With Loss: 0.3859384510647598\n",
      "epochs : 11 Valid With AC: 0.8972666645050049 With Loss: 0.321768588094569\n",
      "epochs : 12 Valid With AC: 0.8925333309173584 With Loss: 0.31827241073595747\n",
      "epochs : 13 Valid With AC: 0.891800000667572 With Loss: 0.32306401567474924\n",
      "epochs : 14 Valid With AC: 0.8942666721343994 With Loss: 0.31309433600202724\n",
      "epochs : 15 Valid With AC: 0.9111999988555908 With Loss: 0.263978087091525\n",
      "epochs : 16 Valid With AC: 0.9027333354949951 With Loss: 0.2989964817293841\n",
      "epochs : 17 Valid With AC: 0.913066668510437 With Loss: 0.2703632850255539\n",
      "epochs : 18 Valid With AC: 0.9186000037193298 With Loss: 0.2529537185507627\n",
      "epochs : 19 Valid With AC: 0.9075333285331726 With Loss: 0.26587511156724264\n",
      "epochs : 20 Valid With AC: 0.9090666675567627 With Loss: 0.2853814786544091\n",
      "epochs : 21 Valid With AC: 0.8863333320617676 With Loss: 0.3638942767533892\n",
      "epochs : 22 Valid With AC: 0.9059333324432373 With Loss: 0.308416549888614\n",
      "epochs : 23 Valid With AC: 0.9288666677474976 With Loss: 0.2225921582029036\n",
      "epochs : 24 Valid With AC: 0.9275333309173583 With Loss: 0.22923538869688562\n",
      "epochs : 25 Valid With AC: 0.9351333355903626 With Loss: 0.18833525382464206\n",
      "epochs : 26 Valid With AC: 0.911800000667572 With Loss: 0.26428986475440003\n",
      "epochs : 27 Valid With AC: 0.9287333393096924 With Loss: 0.2337078553922536\n",
      "epochs : 28 Valid With AC: 0.9116666626930237 With Loss: 0.2799082970737818\n",
      "epochs : 29 Valid With AC: 0.9222000026702881 With Loss: 0.22563228441115044\n",
      "epochs : 30 Valid With AC: 0.9224666666984558 With Loss: 0.23915590170406387\n",
      "Early stop at epoch  25\n",
      "4 ; Train: [    0     1     2 ... 19293 19294 19295] | test: [19296 19297 19298 ... 24116 24117 24118]\n",
      "Model Build Start!\n",
      "Model Build Success!\n",
      "epochs : 0 Valid With AC: 0.12429565280675887 With Loss: 4.034876619956317\n",
      "epochs : 1 Valid With AC: 0.12449565261602402 With Loss: 4.82193582413381\n",
      "epochs : 2 Valid With AC: 0.13769565343856813 With Loss: 4.269425311672868\n",
      "epochs : 3 Valid With AC: 0.2169739133119583 With Loss: 3.6050406765843883\n",
      "epochs : 4 Valid With AC: 0.4864695620536804 With Loss: 1.8237819469941496\n",
      "epochs : 5 Valid With AC: 0.7741652178764343 With Loss: 0.7296229185910732\n",
      "epochs : 6 Valid With AC: 0.856260871887207 With Loss: 0.4827651077846311\n",
      "epochs : 7 Valid With AC: 0.8513217401504517 With Loss: 0.45041332327921607\n",
      "epochs : 8 Valid With AC: 0.823182601928711 With Loss: 0.5412346940551732\n",
      "epochs : 9 Valid With AC: 0.869721748828888 With Loss: 0.38672428815265475\n"
     ]
    },
    {
     "name": "stdout",
     "output_type": "stream",
     "text": [
      "epochs : 10 Valid With AC: 0.8915217399597168 With Loss: 0.3344069136244465\n",
      "epochs : 11 Valid With AC: 0.884660861492157 With Loss: 0.34283662934830245\n",
      "epochs : 12 Valid With AC: 0.8890608716011047 With Loss: 0.3649977060266978\n",
      "epochs : 13 Valid With AC: 0.8978608679771424 With Loss: 0.30171993968646454\n",
      "epochs : 14 Valid With AC: 0.9030608654022216 With Loss: 0.2876801576798273\n",
      "epochs : 15 Valid With AC: 0.9109999942779541 With Loss: 0.28067103995343545\n",
      "epochs : 16 Valid With AC: 0.9043826103210449 With Loss: 0.2978753098407376\n",
      "epochs : 17 Valid With AC: 0.9035826015472412 With Loss: 0.2820307363644196\n",
      "epochs : 18 Valid With AC: 0.9007999992370606 With Loss: 0.32467139573011217\n",
      "epochs : 19 Valid With AC: 0.9218608736991882 With Loss: 0.23901243815895631\n",
      "epochs : 20 Valid With AC: 0.9032608699798584 With Loss: 0.3098802238288767\n",
      "epochs : 21 Valid With AC: 0.9178608703613281 With Loss: 0.24032863338730678\n",
      "epochs : 22 Valid With AC: 0.9126608633995056 With Loss: 0.2889931313160567\n",
      "epochs : 23 Valid With AC: 0.9122608733177185 With Loss: 0.2705046690130738\n",
      "epochs : 24 Valid With AC: 0.9148608732223511 With Loss: 0.26321410040328447\n",
      "Early stop at epoch  19\n"
     ]
    }
   ],
   "source": [
    "from sklearn.model_selection import StratifiedKFold\n",
    "for kflod_turn in range(kflod_turns):\n",
    "    sfolder = StratifiedKFold(n_splits=N, random_state=kflod_turn, shuffle=False)\n",
    "    for i, (train_loc, vali_loc) in enumerate(sfolder.split(np.zeros((vali_num, 1)), np.zeros(vali_num))):\n",
    "        _id = i + N * kflod_turn\n",
    "        print(_id, '; Train: %s | test: %s' % (train_loc, vali_loc))\n",
    "        \n",
    "        X_optical_train = s2_validation[train_loc, :, :, :]\n",
    "        y_train = label_validation[train_loc, :]\n",
    "\n",
    "        X_optical_vali = s2_validation[vali_loc, :, :, :]\n",
    "        y_vali = label_validation[vali_loc, :]\n",
    "        \n",
    "        my_model.build_model(\"{}{}\".format(MODEL_Prefix, _id))\n",
    "        my_model.training((X_optical_train, y_train), (X_optical_vali, y_vali), \n",
    "                          model_name=\"{}{}\".format(MODEL_Prefix, _id), epochs=50, \n",
    "                          early_stop=5, is_shuffle=True)"
   ]
  },
  {
   "cell_type": "markdown",
   "metadata": {},
   "source": [
    "# CV Test "
   ]
  },
  {
   "cell_type": "code",
   "execution_count": 57,
   "metadata": {
    "collapsed": true
   },
   "outputs": [],
   "source": [
    "MODEL_Prefix = \"SHUFFLE_FALSE_New_Model\""
   ]
  },
  {
   "cell_type": "code",
   "execution_count": 58,
   "metadata": {},
   "outputs": [
    {
     "name": "stdout",
     "output_type": "stream",
     "text": [
      "Model Build Start!\n",
      "Model Build Success!\n",
      "INFO:tensorflow:Restoring parameters from ../ckpt/SHUFFLE_FALSE_New_Model0.ckpt\n",
      "Model Build Start!\n",
      "Model Build Success!\n",
      "INFO:tensorflow:Restoring parameters from ../ckpt/SHUFFLE_FALSE_New_Model1.ckpt\n",
      "Model Build Start!\n",
      "Model Build Success!\n",
      "INFO:tensorflow:Restoring parameters from ../ckpt/SHUFFLE_FALSE_New_Model2.ckpt\n",
      "Model Build Start!\n",
      "Model Build Success!\n",
      "INFO:tensorflow:Restoring parameters from ../ckpt/SHUFFLE_FALSE_New_Model3.ckpt\n",
      "Model Build Start!\n",
      "Model Build Success!\n",
      "INFO:tensorflow:Restoring parameters from ../ckpt/SHUFFLE_FALSE_New_Model4.ckpt\n"
     ]
    }
   ],
   "source": [
    "CV_proba = np.zeros((test_num, CLASS_NUM))\n",
    "for i in range(N * kflod_turns):\n",
    "    my_model.build_model(\"{}{}\".format(MODEL_Prefix, i))\n",
    "    CV_proba += my_model.batch_predict(s2_test, \"{}{}\".format(MODEL_Prefix, i))"
   ]
  },
  {
   "cell_type": "code",
   "execution_count": 59,
   "metadata": {
    "collapsed": true
   },
   "outputs": [],
   "source": [
    "CV_proba_max_loc = np.argmax(CV_proba, 1)\n",
    "one_hot=tf.one_hot(CV_proba_max_loc,CLASS_NUM)\n",
    "with tf.Session() as sess:\n",
    "    _one_hot = sess.run(one_hot)\n",
    "_one_hot = _one_hot.astype(np.int16)\n",
    "pd.DataFrame(_one_hot).to_csv('../result/1229_deep_result_new{}.csv'.format(N), index=False, header=None)"
   ]
  }
 ],
 "metadata": {
  "kernelspec": {
   "display_name": "Python 3",
   "language": "python",
   "name": "python3"
  },
  "language_info": {
   "codemirror_mode": {
    "name": "ipython",
    "version": 3
   },
   "file_extension": ".py",
   "mimetype": "text/x-python",
   "name": "python",
   "nbconvert_exporter": "python",
   "pygments_lexer": "ipython3",
   "version": "3.6.1"
  }
 },
 "nbformat": 4,
 "nbformat_minor": 2
}
