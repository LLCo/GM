{
 "cells": [
  {
   "cell_type": "markdown",
   "metadata": {},
   "source": [
    "# Import necessary lib. \n"
   ]
  },
  {
   "cell_type": "code",
   "execution_count": 1,
   "metadata": {
    "scrolled": true
   },
   "outputs": [
    {
     "name": "stderr",
     "output_type": "stream",
     "text": [
      "E:\\Liulicong\\Software\\Anaconda3\\lib\\site-packages\\h5py\\__init__.py:34: FutureWarning: Conversion of the second argument of issubdtype from `float` to `np.floating` is deprecated. In future, it will be treated as `np.float64 == np.dtype(float).type`.\n",
      "  from ._conv import register_converters as _register_converters\n"
     ]
    },
    {
     "name": "stdout",
     "output_type": "stream",
     "text": [
      "1.12.0\n"
     ]
    }
   ],
   "source": [
    "# TensorFlow and tf.keras\n",
    "import tensorflow as tf\n",
    "from tensorflow.contrib.layers import l1_l2_regularizer\n",
    "\n",
    "# Helper libraries\n",
    "import numpy as np\n",
    "import pandas as pd\n",
    "import matplotlib.pyplot as plt\n",
    "\n",
    "print(tf.__version__)\n",
    "\n",
    "import os\n",
    "import h5py\n",
    "import time\n",
    "# from batchnorm import batch_norm,fc_batch_norm\n",
    "\n",
    "from sklearn.metrics import accuracy_score,classification_report\n",
    "import Model_1229 as my_model"
   ]
  },
  {
   "cell_type": "markdown",
   "metadata": {},
   "source": [
    "# Configuration\n",
    "Set the class names and num (17).\n",
    "Set the data path (relative path). "
   ]
  },
  {
   "cell_type": "code",
   "execution_count": 2,
   "metadata": {
    "collapsed": true
   },
   "outputs": [],
   "source": [
    "# configuration\n",
    "# data attribution\n",
    "CLASS_NUM = 17\n",
    "CLASS_URBAN = ['Urban_Compact high-rise', 'Urban_Compact mid-rise', 'Urban_Compact low-rise',\n",
    "               'Urban_Open high-rise', 'Urban_Open mid-rise', 'Urban_Open low-rise',\n",
    "               'Urban_Lightweight low-rise', 'Large low-rise', 'Sparesly built', 'Heavy industry']\n",
    "CLASS_RURAL = ['Dense trees', 'Scattered trees', 'Bush and scrub', 'Low plants', 'Bare rock or paved', 'Bare soil or sand', 'Water']\n",
    "CLASS_NAME = CLASS_URBAN + CLASS_RURAL\n",
    "\n",
    "# data path\n",
    "base_dir = r'../data/'\n",
    "path_training = os.path.join(base_dir, 'training.h5')\n",
    "path_validation = os.path.join(base_dir, 'validation.h5')\n",
    "path_test = os.path.join(base_dir, 'round1_test_a_20181109.h5')\n",
    "# random\n",
    "np.random.seed(0)"
   ]
  },
  {
   "cell_type": "markdown",
   "metadata": {},
   "source": [
    "# Read Data\n",
    "Check the data foramt."
   ]
  },
  {
   "cell_type": "code",
   "execution_count": 3,
   "metadata": {
    "scrolled": true
   },
   "outputs": [
    {
     "name": "stdout",
     "output_type": "stream",
     "text": [
      "------------------------------------------------------------\n",
      "training part\n",
      "s1_training:  (352366, 32, 32, 8)\n",
      "s2_training:  (352366, 32, 32, 10)\n",
      "label_training:  (352366, 17)\n",
      "------------------------------------------------------------\n",
      "validation part\n",
      "s1_validation:  (24119, 32, 32, 8)\n",
      "s2_validation:  (24119, 32, 32, 10)\n",
      "label_validation:  (24119, 17)\n",
      "------------------------------------------------------------\n",
      "Test part\n",
      "s1_test:  (4838, 32, 32, 8)\n",
      "s2_test:  (4838, 32, 32, 10)\n"
     ]
    }
   ],
   "source": [
    "h5py_training = h5py.File(path_training,'r')\n",
    "h5py_validation = h5py.File(path_validation,'r')\n",
    "h5py_test = h5py.File(path_test, 'r')\n",
    "\n",
    "### get s1 image channel data\n",
    "### it is not really loaded into memory. only the indexes have been loaded.\n",
    "print(\"-\" * 60)\n",
    "print(\"training part\")\n",
    "s1_training = h5py_training['sen1']\n",
    "print('s1_training: ', s1_training.shape)\n",
    "s2_training = h5py_training['sen2']\n",
    "print('s2_training: ', s2_training.shape)\n",
    "label_training = h5py_training['label']\n",
    "print('label_training: ', label_training.shape)\n",
    "\n",
    "print(\"-\" * 60)\n",
    "print(\"validation part\")\n",
    "s1_validation = h5py_validation['sen1']\n",
    "print('s1_validation: ', s1_validation.shape)\n",
    "s2_validation = h5py_validation['sen2']\n",
    "print('s2_validation: ', s2_validation.shape)\n",
    "label_validation = h5py_validation['label']\n",
    "print('label_validation: ', label_validation.shape)\n",
    "\n",
    "print(\"-\" * 60)\n",
    "print(\"Test part\")\n",
    "s1_test = h5py_test['sen1']\n",
    "print('s1_test: ', s1_test.shape)\n",
    "s2_test = h5py_test['sen2']\n",
    "print('s2_test: ', s2_test.shape)\n",
    "\n",
    "\n",
    "train_num, pixel_x, pixel_y, sar_bands = s1_training.shape\n",
    "vali_num, pixel_x, pixel_y, optical_bands = s2_validation.shape\n",
    "test_num = s1_test.shape[0]"
   ]
  },
  {
   "cell_type": "markdown",
   "metadata": {},
   "source": [
    "# Pre Training"
   ]
  },
  {
   "cell_type": "code",
   "execution_count": 4,
   "metadata": {
    "scrolled": false
   },
   "outputs": [
    {
     "name": "stdout",
     "output_type": "stream",
     "text": [
      "Model Build Start!\n",
      "Model Build Success!\n",
      "epochs : 0 Valid With AC: 0.5979210374769101 With Loss: 1.367008444098346\n",
      "epochs : 1 Valid With AC: 0.6100795204974403 With Loss: 1.437443814708046\n",
      "epochs : 2 Valid With AC: 0.5879043700281253 With Loss: 1.5444386043063818\n",
      "epochs : 3 Valid With AC: 0.5911705661411127 With Loss: 1.5774856068225112\n",
      "epochs : 4 Valid With AC: 0.5980002089472841 With Loss: 1.6852809859031894\n",
      "epochs : 5 Valid With AC: 0.6040745919400995 With Loss: 1.7616489830635502\n",
      "epochs : 6 Valid With AC: 0.6055042024486321 With Loss: 1.7778693282627447\n",
      "epochs : 7 Valid With AC: 0.5964695446747393 With Loss: 1.876166952254884\n",
      "epochs : 8 Valid With AC: 0.5812348105198095 With Loss: 2.0190632425239663\n",
      "epochs : 9 Valid With AC: 0.5695652493760606 With Loss: 1.9167147102262643\n",
      "Training time using: 1133.6588416099548\n"
     ]
    }
   ],
   "source": [
    "PRE_MODEL_prefix = \"0105_PRETRAINING_NOGRAFT\"\n",
    "PRE_MODEL_name = \"{}\".format(PRE_MODEL_prefix)\n",
    "my_model.build_model(PRE_MODEL_name)\n",
    "my_model.training((s2_training, label_training), (s2_validation, label_validation), \n",
    "                  model_name=PRE_MODEL_name, epochs=10)"
   ]
  },
  {
   "cell_type": "markdown",
   "metadata": {},
   "source": [
    "# One Model Training"
   ]
  },
  {
   "cell_type": "code",
   "execution_count": 49,
   "metadata": {
    "collapsed": true
   },
   "outputs": [
    {
     "name": "stdout",
     "output_type": "stream",
     "text": [
      "Model Build Start!\n",
      "Model Build Success!\n",
      "epochs : 0 Valid With AC: 0.11339999973773957 With Loss: 5.050211242675781\n",
      "epochs : 1 Valid With AC: 0.11339999973773957 With Loss: 5.938496801757813\n",
      "epochs : 2 Valid With AC: 0.12200000077486038 With Loss: 5.096493896484375\n",
      "epochs : 3 Valid With AC: 0.18259999960660933 With Loss: 4.234229638671875\n",
      "epochs : 4 Valid With AC: 0.49139999866485595 With Loss: 1.911457586669922\n",
      "epochs : 5 Valid With AC: 0.7699999976158142 With Loss: 0.7632871765136718\n",
      "epochs : 6 Valid With AC: 0.8138000035285949 With Loss: 0.6028267807006836\n",
      "epochs : 7 Valid With AC: 0.8446000003814698 With Loss: 0.47860005493164065\n",
      "epochs : 8 Valid With AC: 0.8738000011444091 With Loss: 0.38220713348388674\n",
      "epochs : 9 Valid With AC: 0.8416000056266785 With Loss: 0.46222345123291014\n",
      "epochs : 10 Valid With AC: 0.8867999958992004 With Loss: 0.35815686492919924\n",
      "epochs : 11 Valid With AC: 0.884399995803833 With Loss: 0.35007618560791015\n",
      "epochs : 12 Valid With AC: 0.8778000020980835 With Loss: 0.368726424407959\n",
      "epochs : 13 Valid With AC: 0.8846000027656555 With Loss: 0.34051246948242186\n",
      "epochs : 14 Valid With AC: 0.9015999960899354 With Loss: 0.2962829368591309\n",
      "epochs : 15 Valid With AC: 0.9091999959945679 With Loss: 0.28400275192260743\n",
      "epochs : 16 Valid With AC: 0.8743999981880188 With Loss: 0.34983364028930664\n",
      "epochs : 17 Valid With AC: 0.8949999976158142 With Loss: 0.3193681640625\n",
      "epochs : 18 Valid With AC: 0.9026000022888183 With Loss: 0.28890400772094726\n",
      "epochs : 19 Valid With AC: 0.8971999979019165 With Loss: 0.32750126113891603\n",
      "epochs : 20 Valid With AC: 0.9120000004768372 With Loss: 0.2643548645019531\n",
      "epochs : 21 Valid With AC: 0.9183999991416931 With Loss: 0.24921202354431152\n",
      "epochs : 22 Valid With AC: 0.9278000020980834 With Loss: 0.23827063713073732\n",
      "epochs : 23 Valid With AC: 0.8965999937057495 With Loss: 0.3047634330749512\n",
      "epochs : 24 Valid With AC: 0.9292000031471253 With Loss: 0.2170875461578369\n",
      "epochs : 25 Valid With AC: 0.9347999954223633 With Loss: 0.20790202178955078\n",
      "epochs : 26 Valid With AC: 0.9342000007629394 With Loss: 0.20061925354003907\n",
      "epochs : 27 Valid With AC: 0.9280000066757202 With Loss: 0.22350170288085938\n",
      "epochs : 28 Valid With AC: 0.9365999937057495 With Loss: 0.18875729446411132\n",
      "epochs : 29 Valid With AC: 0.8913999962806701 With Loss: 0.33653243713378905\n",
      "epochs : 30 Valid With AC: 0.8958000016212463 With Loss: 0.30853771743774416\n",
      "epochs : 31 Valid With AC: 0.9325999999046326 With Loss: 0.20991342277526856\n",
      "epochs : 32 Valid With AC: 0.9114000082015992 With Loss: 0.26867317428588866\n",
      "epochs : 33 Valid With AC: 0.9084000015258789 With Loss: 0.27008310623168946\n",
      "Early stop at epoch  28\n"
     ]
    }
   ],
   "source": [
    "ONE_MODEL_prefix = \"1229_ONEMODEL\"\n",
    "ONE_MODEL_name = \"{}\".format(PRE_MODEL_prefix)\n",
    "my_model.build_model(PRE_MODEL_name)\n",
    "my_model.training((s2_validation[5000:, :, :, :], label_validation[5000:,:]), \n",
    "                  (s2_validation[:5000, :, :, :], label_validation[:5000,:]), \n",
    "                  model_name=ONE_MODEL_name, epochs=50, early_stop=5, is_shuffle=True)"
   ]
  },
  {
   "cell_type": "markdown",
   "metadata": {},
   "source": [
    "# CV Training"
   ]
  },
  {
   "cell_type": "code",
   "execution_count": 4,
   "metadata": {
    "collapsed": true
   },
   "outputs": [],
   "source": [
    "MODEL_Prefix = \"0105_PRET_5CV_ES5\"\n",
    "N = 5\n",
    "kflod_turns = 1"
   ]
  },
  {
   "cell_type": "code",
   "execution_count": 5,
   "metadata": {
    "scrolled": false
   },
   "outputs": [
    {
     "name": "stdout",
     "output_type": "stream",
     "text": [
      "0 ; Train: [ 4824  4825  4826 ... 24116 24117 24118] | test: [   0    1    2 ... 4821 4822 4823]\n",
      "Model Build Start!\n",
      "Model Build Success!\n",
      "INFO:tensorflow:Restoring parameters from ..\\ckpt\\0105_PRETRAINING_NOGRAFT.ckpt\n",
      "epochs : 0 Valid With AC: 0.858666672706604 With Loss: 0.4546046628683163\n",
      "epochs : 1 Valid With AC: 0.8966666626930236 With Loss: 0.3013113264618426\n",
      "epochs : 2 Valid With AC: 0.9092000007629395 With Loss: 0.2529702864673798\n",
      "epochs : 3 Valid With AC: 0.9091999983787536 With Loss: 0.25894343240146417\n",
      "epochs : 4 Valid With AC: 0.9230666685104371 With Loss: 0.22519907478867082\n",
      "epochs : 5 Valid With AC: 0.9303333282470703 With Loss: 0.19921552383682226\n",
      "epochs : 6 Valid With AC: 0.9418666648864746 With Loss: 0.169266757680409\n",
      "epochs : 7 Valid With AC: 0.9335999989509582 With Loss: 0.1957737284513255\n",
      "epochs : 8 Valid With AC: 0.9373999977111817 With Loss: 0.17196482696738805\n",
      "epochs : 9 Valid With AC: 0.9451333308219909 With Loss: 0.1514920002192407\n",
      "epochs : 10 Valid With AC: 0.9485999941825867 With Loss: 0.15238195252458056\n",
      "epochs : 11 Valid With AC: 0.9322666716575623 With Loss: 0.19136044803148083\n",
      "epochs : 12 Valid With AC: 0.9443333268165588 With Loss: 0.18255852180136178\n",
      "epochs : 13 Valid With AC: 0.9467999887466431 With Loss: 0.1448652431937197\n",
      "epochs : 14 Valid With AC: 0.9523333263397217 With Loss: 0.14227969561445575\n",
      "epochs : 15 Valid With AC: 0.9522666573524475 With Loss: 0.132150326103318\n",
      "epochs : 16 Valid With AC: 0.9449999976158142 With Loss: 0.16451965012953648\n",
      "epochs : 17 Valid With AC: 0.9560666680335999 With Loss: 0.12606142132634152\n",
      "epochs : 18 Valid With AC: 0.9538666701316834 With Loss: 0.12927380357413348\n",
      "epochs : 19 Valid With AC: 0.9567333292961121 With Loss: 0.12827459674569505\n",
      "epochs : 20 Valid With AC: 0.9357999968528747 With Loss: 0.19347769091180703\n",
      "epochs : 21 Valid With AC: 0.9490666604042053 With Loss: 0.14791826328037191\n",
      "epochs : 22 Valid With AC: 0.9607333278656006 With Loss: 0.11988483366879263\n",
      "epochs : 23 Valid With AC: 0.9645333409309387 With Loss: 0.11553752906682281\n",
      "epochs : 24 Valid With AC: 0.9650666737556457 With Loss: 0.11293694688313043\n",
      "epochs : 25 Valid With AC: 0.9559333229064941 With Loss: 0.13480633541719236\n",
      "epochs : 26 Valid With AC: 0.9378666663169861 With Loss: 0.19819553436133794\n",
      "epochs : 27 Valid With AC: 0.9653333377838135 With Loss: 0.10931408968730945\n",
      "epochs : 28 Valid With AC: 0.9589999985694885 With Loss: 0.12702744576468397\n",
      "epochs : 29 Valid With AC: 0.9516666603088378 With Loss: 0.15048975731009867\n",
      "epochs : 30 Valid With AC: 0.9627333354949951 With Loss: 0.11225808635477601\n",
      "epochs : 31 Valid With AC: 0.9594666647911072 With Loss: 0.12315477986833942\n",
      "epochs : 32 Valid With AC: 0.9559999942779541 With Loss: 0.1363732551856223\n",
      "Early stop at epoch  27\n",
      "Training time using: 216.16536402702332\n",
      "1 ; Train: [    0     1     2 ... 24116 24117 24118] | test: [4824 4825 4826 ... 9645 9646 9647]\n",
      "Model Build Start!\n",
      "Model Build Success!\n",
      "INFO:tensorflow:Restoring parameters from ..\\ckpt\\0105_PRETRAINING_NOGRAFT.ckpt\n",
      "epochs : 0 Valid With AC: 0.8476666688919068 With Loss: 0.4350412702481347\n",
      "epochs : 1 Valid With AC: 0.8798000049591065 With Loss: 0.35490028478612945\n",
      "epochs : 2 Valid With AC: 0.8951333236694335 With Loss: 0.2934471441936335\n",
      "epochs : 3 Valid With AC: 0.9018000054359436 With Loss: 0.291447117949402\n",
      "epochs : 4 Valid With AC: 0.9217333388328552 With Loss: 0.23033116765283235\n",
      "epochs : 5 Valid With AC: 0.9233999991416931 With Loss: 0.2138204285952187\n",
      "epochs : 6 Valid With AC: 0.9399333357810974 With Loss: 0.17531181607475724\n",
      "epochs : 7 Valid With AC: 0.9257999992370606 With Loss: 0.20248306410427314\n",
      "epochs : 8 Valid With AC: 0.9482666683197022 With Loss: 0.1524407664934794\n",
      "epochs : 9 Valid With AC: 0.9398000001907348 With Loss: 0.16040719286917057\n",
      "epochs : 10 Valid With AC: 0.9399333286285401 With Loss: 0.16367170526020564\n",
      "epochs : 11 Valid With AC: 0.9412666606903076 With Loss: 0.1735038951064026\n",
      "epochs : 12 Valid With AC: 0.9503333282470703 With Loss: 0.14409841026239728\n",
      "epochs : 13 Valid With AC: 0.9485333323478699 With Loss: 0.15275573379562465\n",
      "epochs : 14 Valid With AC: 0.9401333284378052 With Loss: 0.18423478243560537\n",
      "epochs : 15 Valid With AC: 0.954333336353302 With Loss: 0.1278080651119574\n",
      "epochs : 16 Valid With AC: 0.9326000022888183 With Loss: 0.19197936496924406\n",
      "epochs : 17 Valid With AC: 0.9432666707038879 With Loss: 0.17479204400064144\n",
      "epochs : 18 Valid With AC: 0.9546666693687439 With Loss: 0.1342128842426572\n",
      "epochs : 19 Valid With AC: 0.9584666633605957 With Loss: 0.11737146504087433\n",
      "epochs : 20 Valid With AC: 0.952733325958252 With Loss: 0.14077681678642284\n",
      "epochs : 21 Valid With AC: 0.9621333265304566 With Loss: 0.1161747617804589\n",
      "epochs : 22 Valid With AC: 0.9559333324432373 With Loss: 0.1363510557668126\n",
      "epochs : 23 Valid With AC: 0.9631333327293397 With Loss: 0.1089532882914219\n",
      "epochs : 24 Valid With AC: 0.9589999914169312 With Loss: 0.12361761126945268\n",
      "epochs : 25 Valid With AC: 0.9516666626930237 With Loss: 0.14430204058563334\n",
      "epochs : 26 Valid With AC: 0.9551333260536193 With Loss: 0.13873218590545022\n",
      "epochs : 27 Valid With AC: 0.9583999943733216 With Loss: 0.13161513806130756\n",
      "epochs : 28 Valid With AC: 0.9669333338737488 With Loss: 0.10546627274990873\n",
      "epochs : 29 Valid With AC: 0.959866669178009 With Loss: 0.11503774669039901\n",
      "epochs : 30 Valid With AC: 0.9614666676521302 With Loss: 0.10765827784490822\n",
      "epochs : 31 Valid With AC: 0.9677333331108093 With Loss: 0.09321460483679131\n",
      "epochs : 32 Valid With AC: 0.9649333333969117 With Loss: 0.10594143564032876\n",
      "epochs : 33 Valid With AC: 0.9577999997138977 With Loss: 0.12517417497796995\n",
      "epochs : 34 Valid With AC: 0.9504666709899903 With Loss: 0.15924383890174118\n",
      "epochs : 35 Valid With AC: 0.9587999963760376 With Loss: 0.12562600618373498\n",
      "epochs : 36 Valid With AC: 0.9649333357810974 With Loss: 0.11278069622283353\n",
      "Early stop at epoch  31\n",
      "Training time using: 234.33540320396423\n",
      "2 ; Train: [    0     1     2 ... 24116 24117 24118] | test: [ 9648  9649  9650 ... 14469 14470 14471]\n",
      "Model Build Start!\n",
      "Model Build Success!\n",
      "INFO:tensorflow:Restoring parameters from ..\\ckpt\\0105_PRETRAINING_NOGRAFT.ckpt\n",
      "epochs : 0 Valid With AC: 0.8597333335876465 With Loss: 0.4211536475872717\n",
      "epochs : 1 Valid With AC: 0.8902666664123535 With Loss: 0.3155839173354913\n",
      "epochs : 2 Valid With AC: 0.9138666725158692 With Loss: 0.2544333840879437\n",
      "epochs : 3 Valid With AC: 0.9072000002861023 With Loss: 0.25038634673082216\n",
      "epochs : 4 Valid With AC: 0.9311333346366882 With Loss: 0.20524257806996207\n",
      "epochs : 5 Valid With AC: 0.9303333353996277 With Loss: 0.19941465766671088\n",
      "epochs : 6 Valid With AC: 0.9397999978065491 With Loss: 0.1884351592405914\n",
      "epochs : 7 Valid With AC: 0.9401999974250793 With Loss: 0.1675454356628864\n",
      "epochs : 8 Valid With AC: 0.9365333318710327 With Loss: 0.1821240619146211\n",
      "epochs : 9 Valid With AC: 0.9469333291053772 With Loss: 0.15309403517946082\n",
      "epochs : 10 Valid With AC: 0.9373333287239075 With Loss: 0.19130070863375023\n",
      "epochs : 11 Valid With AC: 0.9451999926567077 With Loss: 0.16532735695219158\n",
      "epochs : 12 Valid With AC: 0.9567999935150147 With Loss: 0.12283645246554765\n",
      "epochs : 13 Valid With AC: 0.9511999988555908 With Loss: 0.149638688831187\n",
      "epochs : 14 Valid With AC: 0.9513999938964843 With Loss: 0.14621435892868595\n",
      "epochs : 15 Valid With AC: 0.9519999957084656 With Loss: 0.1444911434010882\n",
      "epochs : 16 Valid With AC: 0.9561999893188476 With Loss: 0.13715898530375503\n",
      "epochs : 17 Valid With AC: 0.944399995803833 With Loss: 0.17357851105246377\n",
      "Early stop at epoch  12\n",
      "Training time using: 112.61444115638733\n",
      "3 ; Train: [    0     1     2 ... 24116 24117 24118] | test: [14472 14473 14474 ... 19293 19294 19295]\n",
      "Model Build Start!\n",
      "Model Build Success!\n",
      "INFO:tensorflow:Restoring parameters from ..\\ckpt\\0105_PRETRAINING_NOGRAFT.ckpt\n",
      "epochs : 0 Valid With AC: 0.8369333338737488 With Loss: 0.47055244880726876\n",
      "epochs : 1 Valid With AC: 0.89993332862854 With Loss: 0.30543996969463416\n",
      "epochs : 2 Valid With AC: 0.9117333269119263 With Loss: 0.272801451916323\n",
      "epochs : 3 Valid With AC: 0.9136666750907898 With Loss: 0.2635466726265143\n",
      "epochs : 4 Valid With AC: 0.9248666739463807 With Loss: 0.2282573824399344\n",
      "epochs : 5 Valid With AC: 0.9368000054359436 With Loss: 0.18902098875536058\n"
     ]
    },
    {
     "name": "stdout",
     "output_type": "stream",
     "text": [
      "epochs : 6 Valid With AC: 0.9413333296775818 With Loss: 0.17679359505623332\n",
      "epochs : 7 Valid With AC: 0.9344666671752929 With Loss: 0.19422792469091082\n",
      "epochs : 8 Valid With AC: 0.9416666650772094 With Loss: 0.1668494080825034\n",
      "epochs : 9 Valid With AC: 0.9458666634559632 With Loss: 0.1636868167674759\n",
      "epochs : 10 Valid With AC: 0.9472666621208191 With Loss: 0.1475721575925204\n",
      "epochs : 11 Valid With AC: 0.9461333274841308 With Loss: 0.17295047388741033\n",
      "epochs : 12 Valid With AC: 0.9480666589736938 With Loss: 0.15102794969062108\n",
      "epochs : 13 Valid With AC: 0.9418666696548462 With Loss: 0.16218546324503758\n",
      "epochs : 14 Valid With AC: 0.9363333320617676 With Loss: 0.21122746690984193\n",
      "epochs : 15 Valid With AC: 0.9539999985694885 With Loss: 0.12814100306623216\n",
      "epochs : 16 Valid With AC: 0.9530666661262512 With Loss: 0.1454553198853931\n",
      "epochs : 17 Valid With AC: 0.9442666649818421 With Loss: 0.18323351741825566\n",
      "epochs : 18 Valid With AC: 0.9524666643142701 With Loss: 0.13697873429081728\n",
      "epochs : 19 Valid With AC: 0.9543333268165588 With Loss: 0.13104844933520898\n",
      "epochs : 20 Valid With AC: 0.9610000014305115 With Loss: 0.12418444748739303\n",
      "epochs : 21 Valid With AC: 0.9348000001907348 With Loss: 0.23040605856609186\n",
      "epochs : 22 Valid With AC: 0.9475999975204468 With Loss: 0.1537500503249034\n",
      "epochs : 23 Valid With AC: 0.9537333297729492 With Loss: 0.14353442053692061\n",
      "epochs : 24 Valid With AC: 0.9540666699409485 With Loss: 0.15487340611604908\n",
      "epochs : 25 Valid With AC: 0.9544666647911072 With Loss: 0.15120454649031656\n",
      "Early stop at epoch  20\n",
      "Training time using: 159.57012701034546\n",
      "4 ; Train: [    0     1     2 ... 19293 19294 19295] | test: [19296 19297 19298 ... 24116 24117 24118]\n",
      "Model Build Start!\n",
      "Model Build Success!\n",
      "INFO:tensorflow:Restoring parameters from ..\\ckpt\\0105_PRETRAINING_NOGRAFT.ckpt\n",
      "epochs : 0 Valid With AC: 0.8473826026916504 With Loss: 0.4643329573498211\n",
      "epochs : 1 Valid With AC: 0.8782608699798584 With Loss: 0.36161999007416246\n",
      "epochs : 2 Valid With AC: 0.9135999989509582 With Loss: 0.26197904268043704\n",
      "epochs : 3 Valid With AC: 0.9191999983787537 With Loss: 0.250696270836109\n",
      "epochs : 4 Valid With AC: 0.9186608719825745 With Loss: 0.24526173411477484\n",
      "epochs : 5 Valid With AC: 0.9289217352867126 With Loss: 0.21276411218265515\n",
      "epochs : 6 Valid With AC: 0.9364000010490418 With Loss: 0.215374165443422\n",
      "epochs : 7 Valid With AC: 0.9300608682632446 With Loss: 0.20874641724154833\n",
      "epochs : 8 Valid With AC: 0.9321826100349426 With Loss: 0.19859376686281272\n",
      "epochs : 9 Valid With AC: 0.9366608691215516 With Loss: 0.1982173781263465\n",
      "epochs : 10 Valid With AC: 0.9420000004768372 With Loss: 0.17816569833322454\n",
      "epochs : 11 Valid With AC: 0.9525999975204468 With Loss: 0.1507495929535904\n",
      "epochs : 12 Valid With AC: 0.9487999963760376 With Loss: 0.16571751912303073\n",
      "epochs : 13 Valid With AC: 0.9529999995231628 With Loss: 0.15194184771964295\n",
      "epochs : 14 Valid With AC: 0.9439217329025269 With Loss: 0.17853869831762248\n",
      "epochs : 15 Valid With AC: 0.9537999939918518 With Loss: 0.15066022219040967\n",
      "epochs : 16 Valid With AC: 0.9541999936103821 With Loss: 0.14592843933914204\n",
      "epochs : 17 Valid With AC: 0.9418608665466308 With Loss: 0.18246733907493545\n",
      "epochs : 18 Valid With AC: 0.9475999999046326 With Loss: 0.1651078590386739\n",
      "epochs : 19 Valid With AC: 0.9442608666419983 With Loss: 0.19165575284323158\n",
      "epochs : 20 Valid With AC: 0.9575999999046325 With Loss: 0.1377473185474191\n",
      "epochs : 21 Valid With AC: 0.9544000005722046 With Loss: 0.1531460608482954\n",
      "epochs : 22 Valid With AC: 0.9425999975204468 With Loss: 0.18680630421307284\n",
      "epochs : 23 Valid With AC: 0.952599995136261 With Loss: 0.1609773207088983\n",
      "epochs : 24 Valid With AC: 0.9505217337608337 With Loss: 0.16171374875629638\n",
      "epochs : 25 Valid With AC: 0.9549999976158142 With Loss: 0.1483590836819588\n",
      "Early stop at epoch  20\n",
      "Training time using: 159.9061462879181\n"
     ]
    }
   ],
   "source": [
    "from sklearn.model_selection import StratifiedKFold\n",
    "for kflod_turn in range(kflod_turns):\n",
    "    sfolder = StratifiedKFold(n_splits=N, random_state=kflod_turn, shuffle=False)\n",
    "    for i, (train_loc, vali_loc) in enumerate(sfolder.split(np.zeros((vali_num, 1)), np.zeros(vali_num))):\n",
    "        _id = i + N * kflod_turn\n",
    "        print(_id, '; Train: %s | test: %s' % (train_loc, vali_loc))\n",
    "        \n",
    "        X_optical_train = s2_validation[train_loc, :, :, :]\n",
    "        y_train = label_validation[train_loc, :]\n",
    "        \n",
    "        X_optical_vali = s2_validation[vali_loc, :, :, :]\n",
    "        y_vali = label_validation[vali_loc, :]\n",
    "        \n",
    "        my_model.build_model(\"{}{}\".format(MODEL_Prefix, _id))\n",
    "        my_model.training((X_optical_train, y_train), (X_optical_vali, y_vali), is_freeze=False, \n",
    "                          model_name=\"{}{}\".format(MODEL_Prefix, _id), epochs=100, early_stop=5, \n",
    "                          is_shuffle=True, restore_name=\"0105_PRETRAINING_NOGRAFT\")"
   ]
  },
  {
   "cell_type": "markdown",
   "metadata": {},
   "source": [
    "# CV Test "
   ]
  },
  {
   "cell_type": "code",
   "execution_count": 6,
   "metadata": {
    "collapsed": true
   },
   "outputs": [],
   "source": [
    "MODEL_Prefix = \"0105_PRET_5CV_ES5\"\n",
    "N = 5"
   ]
  },
  {
   "cell_type": "code",
   "execution_count": 7,
   "metadata": {},
   "outputs": [
    {
     "name": "stdout",
     "output_type": "stream",
     "text": [
      "Model Build Start!\n",
      "Model Build Success!\n",
      "INFO:tensorflow:Restoring parameters from ../ckpt/0105_PRET_5CV_ES50.ckpt\n",
      "Model Build Start!\n",
      "Model Build Success!\n",
      "INFO:tensorflow:Restoring parameters from ../ckpt/0105_PRET_5CV_ES51.ckpt\n",
      "Model Build Start!\n",
      "Model Build Success!\n",
      "INFO:tensorflow:Restoring parameters from ../ckpt/0105_PRET_5CV_ES52.ckpt\n",
      "Model Build Start!\n",
      "Model Build Success!\n",
      "INFO:tensorflow:Restoring parameters from ../ckpt/0105_PRET_5CV_ES53.ckpt\n",
      "Model Build Start!\n",
      "Model Build Success!\n",
      "INFO:tensorflow:Restoring parameters from ../ckpt/0105_PRET_5CV_ES54.ckpt\n"
     ]
    }
   ],
   "source": [
    "CV_proba = np.zeros((test_num, CLASS_NUM))\n",
    "for i in range(N * kflod_turns):\n",
    "    my_model.build_model(\"{}{}\".format(MODEL_Prefix, i))\n",
    "    CV_proba += my_model.batch_predict(s2_test, \"{}{}\".format(MODEL_Prefix, i))"
   ]
  },
  {
   "cell_type": "code",
   "execution_count": 8,
   "metadata": {
    "collapsed": true
   },
   "outputs": [],
   "source": [
    "CV_proba_max_loc = np.argmax(CV_proba, 1)\n",
    "one_hot=tf.one_hot(CV_proba_max_loc,CLASS_NUM)\n",
    "with tf.Session() as sess:\n",
    "    _one_hot = sess.run(one_hot)\n",
    "_one_hot = _one_hot.astype(np.int16)\n",
    "pd.DataFrame(_one_hot).to_csv('../result/0105_PreT_5CV.csv'.format(N), index=False, header=None)"
   ]
  }
 ],
 "metadata": {
  "kernelspec": {
   "display_name": "Python 3",
   "language": "python",
   "name": "python3"
  },
  "language_info": {
   "codemirror_mode": {
    "name": "ipython",
    "version": 3
   },
   "file_extension": ".py",
   "mimetype": "text/x-python",
   "name": "python",
   "nbconvert_exporter": "python",
   "pygments_lexer": "ipython3",
   "version": "3.6.1"
  }
 },
 "nbformat": 4,
 "nbformat_minor": 2
}
