{
 "cells": [
  {
   "cell_type": "markdown",
   "metadata": {},
   "source": [
    "# Import necessary lib. \n"
   ]
  },
  {
   "cell_type": "code",
   "execution_count": 1,
   "metadata": {},
   "outputs": [
    {
     "name": "stderr",
     "output_type": "stream",
     "text": [
      "E:\\Liulicong\\Software\\Anaconda3\\lib\\site-packages\\h5py\\__init__.py:34: FutureWarning: Conversion of the second argument of issubdtype from `float` to `np.floating` is deprecated. In future, it will be treated as `np.float64 == np.dtype(float).type`.\n",
      "  from ._conv import register_converters as _register_converters\n"
     ]
    },
    {
     "name": "stdout",
     "output_type": "stream",
     "text": [
      "1.12.0\n"
     ]
    }
   ],
   "source": [
    "# TensorFlow and tf.keras\n",
    "import tensorflow as tf\n",
    "from tensorflow.contrib.layers import l1_l2_regularizer\n",
    "\n",
    "# Helper libraries\n",
    "import numpy as np\n",
    "import pandas as pd\n",
    "import matplotlib.pyplot as plt\n",
    "\n",
    "print(tf.__version__)\n",
    "\n",
    "import os\n",
    "import h5py\n",
    "import time\n",
    "# from batchnorm import batch_norm,fc_batch_norm\n",
    "\n",
    "from sklearn.metrics import accuracy_score,classification_report\n",
    "import Model_1226 as my_model"
   ]
  },
  {
   "cell_type": "markdown",
   "metadata": {},
   "source": [
    "# Configuration\n",
    "Set the class names and num (17).\n",
    "Set the data path (relative path). "
   ]
  },
  {
   "cell_type": "code",
   "execution_count": 2,
   "metadata": {
    "collapsed": true
   },
   "outputs": [],
   "source": [
    "# configuration\n",
    "# data attribution\n",
    "CLASS_NUM = 17\n",
    "CLASS_URBAN = ['Urban_Compact high-rise', 'Urban_Compact mid-rise', 'Urban_Compact low-rise',\n",
    "               'Urban_Open high-rise', 'Urban_Open mid-rise', 'Urban_Open low-rise',\n",
    "               'Urban_Lightweight low-rise', 'Large low-rise', 'Sparesly built', 'Heavy industry']\n",
    "CLASS_RURAL = ['Dense trees', 'Scattered trees', 'Bush and scrub', 'Low plants', 'Bare rock or paved', 'Bare soil or sand', 'Water']\n",
    "CLASS_NAME = CLASS_URBAN + CLASS_RURAL\n",
    "\n",
    "# data path\n",
    "base_dir = r'../data/'\n",
    "path_training = os.path.join(base_dir, 'training.h5')\n",
    "path_validation = os.path.join(base_dir, 'validation.h5')\n",
    "path_test = os.path.join(base_dir, 'round1_test_a_20181109.h5')\n",
    "# random\n",
    "np.random.seed(0)"
   ]
  },
  {
   "cell_type": "markdown",
   "metadata": {},
   "source": [
    "# Read Data\n",
    "Check the data foramt."
   ]
  },
  {
   "cell_type": "code",
   "execution_count": 3,
   "metadata": {
    "scrolled": true
   },
   "outputs": [
    {
     "name": "stdout",
     "output_type": "stream",
     "text": [
      "------------------------------------------------------------\n",
      "training part\n",
      "s1_training:  (352366, 32, 32, 8)\n",
      "s2_training:  (352366, 32, 32, 10)\n",
      "label_training:  (352366, 17)\n",
      "------------------------------------------------------------\n",
      "validation part\n",
      "s1_validation:  (24119, 32, 32, 8)\n",
      "s2_validation:  (24119, 32, 32, 10)\n",
      "label_validation:  (24119, 17)\n",
      "------------------------------------------------------------\n",
      "Test part\n",
      "s1_test:  (4838, 32, 32, 8)\n",
      "s2_test:  (4838, 32, 32, 10)\n"
     ]
    }
   ],
   "source": [
    "h5py_training = h5py.File(path_training,'r')\n",
    "h5py_validation = h5py.File(path_validation,'r')\n",
    "h5py_test = h5py.File(path_test, 'r')\n",
    "\n",
    "### get s1 image channel data\n",
    "### it is not really loaded into memory. only the indexes have been loaded.\n",
    "print(\"-\" * 60)\n",
    "print(\"training part\")\n",
    "s1_training = h5py_training['sen1']\n",
    "print('s1_training: ', s1_training.shape)\n",
    "s2_training = h5py_training['sen2']\n",
    "print('s2_training: ', s2_training.shape)\n",
    "label_training = h5py_training['label']\n",
    "print('label_training: ', label_training.shape)\n",
    "\n",
    "print(\"-\" * 60)\n",
    "print(\"validation part\")\n",
    "s1_validation = h5py_validation['sen1']\n",
    "print('s1_validation: ', s1_validation.shape)\n",
    "s2_validation = h5py_validation['sen2']\n",
    "print('s2_validation: ', s2_validation.shape)\n",
    "label_validation = h5py_validation['label']\n",
    "print('label_validation: ', label_validation.shape)\n",
    "\n",
    "print(\"-\" * 60)\n",
    "print(\"Test part\")\n",
    "s1_test = h5py_test['sen1']\n",
    "print('s1_test: ', s1_test.shape)\n",
    "s2_test = h5py_test['sen2']\n",
    "print('s2_test: ', s2_test.shape)\n",
    "\n",
    "\n",
    "train_num, pixel_x, pixel_y, sar_bands = s1_training.shape\n",
    "vali_num, pixel_x, pixel_y, optical_bands = s2_validation.shape\n",
    "test_num = s1_test.shape[0]"
   ]
  },
  {
   "cell_type": "markdown",
   "metadata": {},
   "source": [
    "# CV Training"
   ]
  },
  {
   "cell_type": "code",
   "execution_count": 4,
   "metadata": {
    "collapsed": true
   },
   "outputs": [],
   "source": [
    "MODEL_Prefix = \"10CV_baseline\"\n",
    "N = 10"
   ]
  },
  {
   "cell_type": "code",
   "execution_count": 5,
   "metadata": {
    "collapsed": true
   },
   "outputs": [],
   "source": [
    "from sklearn.model_selection import StratifiedKFold\n",
    "sfolder = StratifiedKFold(n_splits=N, random_state=86, shuffle=False)"
   ]
  },
  {
   "cell_type": "code",
   "execution_count": 6,
   "metadata": {},
   "outputs": [
    {
     "name": "stdout",
     "output_type": "stream",
     "text": [
      "Train: [ 2412  2413  2414 ... 24116 24117 24118] | test: [   0    1    2 ... 2409 2410 2411]\n",
      "Model Build Start!\n",
      "Model Build Success!\n",
      "start training!\n",
      "Loss change at:  0 With AC:  0.09230769282350174 With Loss:  2.818756008622658\n",
      "Loss change at:  450 With AC:  0.4873076929495885 With Loss:  1.9490005222719107\n",
      "Loss change at:  500 With AC:  0.5966666684700892 With Loss:  1.3165710118674916\n",
      "Loss change at:  550 With AC:  0.6255128269012158 With Loss:  1.2101841241763795\n",
      "Loss change at:  600 With AC:  0.7839743586686941 With Loss:  0.6057926888884992\n",
      "Loss change at:  700 With AC:  0.823846147610591 With Loss:  0.5232774088434121\n",
      "Loss change at:  750 With AC:  0.8349999968822186 With Loss:  0.4738428311956858\n",
      "Loss change at:  850 With AC:  0.8646153807640076 With Loss:  0.38873380887172315\n",
      "Loss change at:  950 With AC:  0.8828205099472632 With Loss:  0.3805735544185733\n",
      "Loss change at:  1000 With AC:  0.8725640911322373 With Loss:  0.37616273617467677\n",
      "Loss change at:  1150 With AC:  0.8847435896213238 With Loss:  0.35923579132576683\n",
      "Loss change at:  1300 With AC:  0.8982051335848295 With Loss:  0.30396742765385515\n",
      "Loss change at:  1600 With AC:  0.9161538435862615 With Loss:  0.27109715485849584\n",
      "Loss change at:  1800 With AC:  0.9270512828460107 With Loss:  0.23646640807241942\n",
      "Time use:  107.95639443397522\n",
      "Train: [    0     1     2 ... 24116 24117 24118] | test: [2412 2413 2414 ... 4821 4822 4823]\n",
      "Model Build Start!\n",
      "Model Build Success!\n",
      "start training!\n",
      "Loss change at:  0 With AC:  0.1489743607548567 With Loss:  2.971384685826341\n",
      "Loss change at:  450 With AC:  0.39692307435549223 With Loss:  2.3313539324708246\n",
      "Loss change at:  500 With AC:  0.5467948707250448 With Loss:  1.529578014392758\n",
      "Loss change at:  550 With AC:  0.7074358967634348 With Loss:  1.0375334698564773\n",
      "Loss change at:  600 With AC:  0.7370512852301965 With Loss:  0.8236127911910884\n",
      "Loss change at:  650 With AC:  0.8203846078652602 With Loss:  0.5068409589194935\n",
      "Loss change at:  700 With AC:  0.8610256405977103 With Loss:  0.4045711196279447\n",
      "Loss change at:  750 With AC:  0.8746153849821824 With Loss:  0.3767320659030136\n",
      "Loss change at:  950 With AC:  0.8760256446324862 With Loss:  0.3660810377269637\n",
      "Loss change at:  1050 With AC:  0.8880769243607154 With Loss:  0.3165630046803362\n",
      "Loss change at:  1150 With AC:  0.887820514348837 With Loss:  0.2901583564024462\n",
      "Loss change at:  1300 With AC:  0.8942307646457965 With Loss:  0.28666587749721595\n",
      "Loss change at:  1500 With AC:  0.9002564045099112 With Loss:  0.27494966370944757\n",
      "Loss change at:  1750 With AC:  0.918717948290018 With Loss:  0.22155766937863175\n",
      "Loss change at:  1850 With AC:  0.9134615384615384 With Loss:  0.21656753570088502\n",
      "Time use:  104.94488906860352\n",
      "Train: [    0     1     2 ... 24116 24117 24118] | test: [4824 4825 4826 ... 7233 7234 7235]\n",
      "Model Build Start!\n",
      "Model Build Success!\n",
      "start training!\n",
      "Loss change at:  0 With AC:  0.02846153825521469 With Loss:  2.912313026377613\n",
      "Loss change at:  450 With AC:  0.34820512854135954 With Loss:  2.5103846600597377\n",
      "Loss change at:  500 With AC:  0.5942307664797857 With Loss:  1.4475006906942745\n",
      "Loss change at:  550 With AC:  0.6185897405330951 With Loss:  1.3356586926019014\n",
      "Loss change at:  600 With AC:  0.7910256477502676 With Loss:  0.661605596146971\n",
      "Loss change at:  650 With AC:  0.8146153871829693 With Loss:  0.5716861563535472\n",
      "Loss change at:  700 With AC:  0.8317948671487662 With Loss:  0.4821786904216406\n",
      "Loss change at:  750 With AC:  0.856153850372021 With Loss:  0.4090329817871549\n",
      "Loss change at:  950 With AC:  0.8889743639872625 With Loss:  0.36571561884919607\n",
      "Loss change at:  1050 With AC:  0.8692307747327365 With Loss:  0.356379593189676\n",
      "Loss change at:  1150 With AC:  0.8757692346206079 With Loss:  0.35170453223422987\n",
      "Loss change at:  1250 With AC:  0.8870512843132019 With Loss:  0.29789654572013996\n",
      "Loss change at:  1350 With AC:  0.8956410242961004 With Loss:  0.2953178914229866\n",
      "Loss change at:  1850 With AC:  0.8998717849071209 With Loss:  0.29350022771465245\n",
      "Loss change at:  2100 With AC:  0.8930769241773165 With Loss:  0.2881422833621403\n",
      "Loss change at:  2150 With AC:  0.9000000036679782 With Loss:  0.26768972229206345\n",
      "Time use:  104.96500372886658\n",
      "Train: [    0     1     2 ... 24116 24117 24118] | test: [7236 7237 7238 ... 9645 9646 9647]\n",
      "Model Build Start!\n",
      "Model Build Success!\n",
      "start training!\n",
      "Loss change at:  0 With AC:  0.016153845792779557 With Loss:  3.0387008929529395\n",
      "Loss change at:  50 With AC:  0.1015384618479472 With Loss:  3.0311357520310636\n",
      "Loss change at:  450 With AC:  0.4435897446595706 With Loss:  2.278933428610933\n",
      "Loss change at:  500 With AC:  0.49589743980994594 With Loss:  2.0211979453243427\n",
      "Loss change at:  550 With AC:  0.6255128200237567 With Loss:  1.402463349932264\n",
      "Loss change at:  600 With AC:  0.8048717929766729 With Loss:  0.6004028367758983\n",
      "Loss change at:  650 With AC:  0.8333333318050091 With Loss:  0.5097281102517351\n",
      "Loss change at:  750 With AC:  0.8660256358293387 With Loss:  0.42187810339540194\n",
      "Loss change at:  800 With AC:  0.8652564149636489 With Loss:  0.4126101583983768\n",
      "Loss change at:  900 With AC:  0.8656410299814664 With Loss:  0.40273565953446067\n",
      "Loss change at:  950 With AC:  0.8780769247275132 With Loss:  0.3367777813726397\n",
      "Loss change at:  1250 With AC:  0.8902564094616816 With Loss:  0.31361789420667174\n",
      "Loss change at:  1350 With AC:  0.9070512835796063 With Loss:  0.28347299407370646\n",
      "Loss change at:  1450 With AC:  0.9067948735677279 With Loss:  0.2716539200660997\n",
      "Loss change at:  1600 With AC:  0.9170512877977811 With Loss:  0.23731271425882974\n",
      "Loss change at:  2000 With AC:  0.916923082791842 With Loss:  0.21761962292008535\n",
      "Time use:  104.33096718788147\n",
      "Train: [    0     1     2 ... 24116 24117 24118] | test: [ 9648  9649  9650 ... 12057 12058 12059]\n",
      "Model Build Start!\n",
      "Model Build Success!\n",
      "start training!\n",
      "Loss change at:  0 With AC:  0.04987179516599728 With Loss:  2.9145058288700745\n",
      "Loss change at:  500 With AC:  0.4593589718525226 With Loss:  1.9419710505661087\n",
      "Loss change at:  550 With AC:  0.6987179517745972 With Loss:  1.0561086265601922\n",
      "Loss change at:  600 With AC:  0.7883333334555993 With Loss:  0.6697420666664592\n",
      "Loss change at:  650 With AC:  0.8585897408998929 With Loss:  0.4541834096608075\n",
      "Loss change at:  700 With AC:  0.8474358916282654 With Loss:  0.3982924054906538\n",
      "Loss change at:  750 With AC:  0.874358974970304 With Loss:  0.392630270662197\n",
      "Loss change at:  950 With AC:  0.8580769254611089 With Loss:  0.38349189509206744\n",
      "Loss change at:  1000 With AC:  0.8871794893191411 With Loss:  0.33028632095994837\n",
      "Loss change at:  1100 With AC:  0.8888461543963506 With Loss:  0.313768070530931\n",
      "Loss change at:  1250 With AC:  0.9029487188045795 With Loss:  0.28915503191117625\n",
      "Loss change at:  1300 With AC:  0.9030769238105187 With Loss:  0.26418460571943825\n",
      "Loss change at:  1700 With AC:  0.9071794840005728 With Loss:  0.2521647197097095\n",
      "Loss change at:  1800 With AC:  0.9114102583665115 With Loss:  0.24283016963582332\n",
      "Loss change at:  1850 With AC:  0.9323076926744901 With Loss:  0.2331721217280399\n",
      "Loss change at:  1950 With AC:  0.9208974379759568 With Loss:  0.22602939230094898\n",
      "Time use:  102.8822078704834\n",
      "Train: [    0     1     2 ... 24116 24117 24118] | test: [12060 12061 12062 ... 14469 14470 14471]\n",
      "Model Build Start!\n",
      "Model Build Success!\n",
      "start training!\n",
      "Loss change at:  0 With AC:  0.10358974280265662 With Loss:  2.9172545365037807\n",
      "Loss change at:  450 With AC:  0.374358968092845 With Loss:  2.3620301597747044\n",
      "Loss change at:  500 With AC:  0.6517948691661541 With Loss:  1.2489452674416563\n",
      "Loss change at:  550 With AC:  0.7728205139820392 With Loss:  0.7341879187136345\n",
      "Loss change at:  600 With AC:  0.7661538490882287 With Loss:  0.7011590761134083\n",
      "Loss change at:  650 With AC:  0.7911538435862615 With Loss:  0.6386036171051203\n",
      "Loss change at:  700 With AC:  0.8475641012191772 With Loss:  0.4472188538382105\n",
      "Loss change at:  800 With AC:  0.8670512850467975 With Loss:  0.4081971411582447\n",
      "Loss change at:  850 With AC:  0.860384620152987 With Loss:  0.3860767071519918\n",
      "Loss change at:  1050 With AC:  0.890000004034776 With Loss:  0.3610900455149845\n",
      "Loss change at:  1200 With AC:  0.9076923086093023 With Loss:  0.2924679415439492\n"
     ]
    },
    {
     "name": "stdout",
     "output_type": "stream",
     "text": [
      "Loss change at:  1450 With AC:  0.9226923172290509 With Loss:  0.26173789991964747\n",
      "Loss change at:  1850 With AC:  0.9242307681303757 With Loss:  0.2394103025816764\n",
      "Loss change at:  2050 With AC:  0.93000001173753 With Loss:  0.23473285111424144\n",
      "Loss change at:  2150 With AC:  0.9300000071525574 With Loss:  0.22156427542417995\n",
      "Time use:  102.5658049583435\n",
      "Train: [    0     1     2 ... 24116 24117 24118] | test: [14472 14473 14474 ... 16881 16882 16883]\n",
      "Model Build Start!\n",
      "Model Build Success!\n",
      "start training!\n",
      "Loss change at:  0 With AC:  0.11897436013588539 With Loss:  2.851729484735239\n",
      "Loss change at:  450 With AC:  0.38243589951441836 With Loss:  2.4149696403870338\n",
      "Loss change at:  500 With AC:  0.6217948702665476 With Loss:  1.4391237847247527\n",
      "Loss change at:  550 With AC:  0.74756409571721 With Loss:  0.7645365151995253\n",
      "Loss change at:  600 With AC:  0.8170512822958139 With Loss:  0.5239312692265803\n",
      "Loss change at:  650 With AC:  0.8401282062897315 With Loss:  0.46760346086859506\n",
      "Loss change at:  750 With AC:  0.8630769206927373 With Loss:  0.40292308876170446\n",
      "Loss change at:  800 With AC:  0.8717948656815749 With Loss:  0.3757963437543777\n",
      "Loss change at:  850 With AC:  0.8697435855865479 With Loss:  0.3614082751582511\n",
      "Loss change at:  950 With AC:  0.8901282044557425 With Loss:  0.34432513263095077\n",
      "Loss change at:  1000 With AC:  0.8799999952316284 With Loss:  0.3379478256896163\n",
      "Loss change at:  1150 With AC:  0.8941025596398574 With Loss:  0.328292030600173\n",
      "Loss change at:  1200 With AC:  0.8849999904632568 With Loss:  0.3178317440089895\n",
      "Loss change at:  1350 With AC:  0.9087179486568158 With Loss:  0.2701825202005617\n",
      "Loss change at:  1550 With AC:  0.8949999946814317 With Loss:  0.2689202768885674\n",
      "Loss change at:  1650 With AC:  0.9197435975074768 With Loss:  0.248701201940255\n",
      "Loss change at:  2000 With AC:  0.9233333330888015 With Loss:  0.21217284412130985\n",
      "Time use:  101.41679978370667\n",
      "Train: [    0     1     2 ... 24116 24117 24118] | test: [16884 16885 16886 ... 19293 19294 19295]\n",
      "Model Build Start!\n",
      "Model Build Success!\n",
      "start training!\n",
      "Loss change at:  0 With AC:  0.023076922847674444 With Loss:  3.0191260696841313\n",
      "Loss change at:  50 With AC:  0.11705128160806802 With Loss:  2.8368891246283234\n",
      "Loss change at:  450 With AC:  0.4544871816268334 With Loss:  2.259778684644557\n",
      "Loss change at:  500 With AC:  0.6052564061605014 With Loss:  1.337586838609939\n",
      "Loss change at:  550 With AC:  0.6901282026217535 With Loss:  1.1050523319845373\n",
      "Loss change at:  600 With AC:  0.7950000029343826 With Loss:  0.658777843067302\n",
      "Loss change at:  650 With AC:  0.8466666753475482 With Loss:  0.49336137077701625\n",
      "Loss change at:  700 With AC:  0.8585897454848657 With Loss:  0.4481341173597434\n",
      "Loss change at:  800 With AC:  0.8835897445678711 With Loss:  0.36878058665229707\n",
      "Loss change at:  1150 With AC:  0.902820518383613 With Loss:  0.3139616848026737\n",
      "Loss change at:  1200 With AC:  0.9207692329700177 With Loss:  0.28100519018189035\n",
      "Loss change at:  1600 With AC:  0.914743593105903 With Loss:  0.27785828803506857\n",
      "Loss change at:  1800 With AC:  0.9185897432840787 With Loss:  0.2289282600480328\n",
      "Loss change at:  2100 With AC:  0.9229487134860113 With Loss:  0.21986777806163427\n",
      "Time use:  104.38800382614136\n",
      "Train: [    0     1     2 ... 24116 24117 24118] | test: [19296 19297 19298 ... 21705 21706 21707]\n",
      "Model Build Start!\n",
      "Model Build Success!\n",
      "start training!\n",
      "Loss change at:  0 With AC:  0.04910256412739937 With Loss:  3.001203644532667\n",
      "Loss change at:  400 With AC:  0.3029487173144634 With Loss:  2.993818985289009\n",
      "Loss change at:  450 With AC:  0.3225641038555365 With Loss:  2.8555377166267255\n",
      "Loss change at:  500 With AC:  0.5299999988996066 With Loss:  1.7616119574551559\n",
      "Loss change at:  550 With AC:  0.6864102574495169 With Loss:  0.9726304161805617\n",
      "Loss change at:  600 With AC:  0.7624358993310195 With Loss:  0.7279291303201298\n",
      "Loss change at:  650 With AC:  0.8252564164308401 With Loss:  0.5459933624931829\n",
      "Loss change at:  750 With AC:  0.8421794909697312 With Loss:  0.4881811217091372\n",
      "Loss change at:  900 With AC:  0.8862820542775668 With Loss:  0.37074670625563283\n",
      "Loss change at:  1000 With AC:  0.8856410292478708 With Loss:  0.33100582849524707\n",
      "Loss change at:  1350 With AC:  0.9016666641602149 With Loss:  0.3201801533722759\n",
      "Loss change at:  1500 With AC:  0.902820518383613 With Loss:  0.2843942274501668\n",
      "Loss change at:  1700 With AC:  0.9085897482358493 With Loss:  0.2668610029355013\n",
      "Loss change at:  1800 With AC:  0.9212820529937744 With Loss:  0.24233377335676506\n",
      "Time use:  101.81760287284851\n",
      "Train: [    0     1     2 ... 21705 21706 21707] | test: [21708 21709 21710 ... 24116 24117 24118]\n",
      "Model Build Start!\n",
      "Model Build Success!\n",
      "start training!\n",
      "Loss change at:  0 With AC:  0.11052447557449341 With Loss:  2.902236637857533\n",
      "Loss change at:  500 With AC:  0.6034964964939997 With Loss:  1.3982472097364416\n",
      "Loss change at:  550 With AC:  0.7297902153088496 With Loss:  0.9167507769704508\n",
      "Loss change at:  650 With AC:  0.8313985971304086 With Loss:  0.4844476111644237\n",
      "Loss change at:  700 With AC:  0.8725524453016428 With Loss:  0.3940690561529513\n",
      "Loss change at:  750 With AC:  0.8694755297440749 With Loss:  0.37754201058380243\n",
      "Loss change at:  1100 With AC:  0.8918531491206243 With Loss:  0.3194918985536908\n",
      "Loss change at:  1450 With AC:  0.9203846133672274 With Loss:  0.27595082302402035\n",
      "Loss change at:  1700 With AC:  0.9137062980578496 With Loss:  0.2426828659703157\n",
      "Time use:  100.71559572219849\n"
     ]
    }
   ],
   "source": [
    "for i, (train_loc, vali_loc) in enumerate(sfolder.split(np.zeros((vali_num, 1)), np.zeros(vali_num))):\n",
    "    print('Train: %s | test: %s' % (train_loc, vali_loc))\n",
    "    \n",
    "    X_optical_train = s2_validation[train_loc, :, :, :]\n",
    "    y_train = label_validation[train_loc, :]\n",
    "    \n",
    "    X_optical_vali = s2_validation[vali_loc, :, :, :]\n",
    "    y_vali = label_validation[vali_loc, :]\n",
    "    \n",
    "    my_model.build_model(\"{}{}\".format(MODEL_Prefix, i))\n",
    "    my_model.training((X_optical_train, y_train), (X_optical_vali, y_vali), model_name=\"{}{}\".format(MODEL_Prefix, i), epochs=20)"
   ]
  },
  {
   "cell_type": "markdown",
   "metadata": {},
   "source": [
    "# CV Test "
   ]
  },
  {
   "cell_type": "code",
   "execution_count": 7,
   "metadata": {},
   "outputs": [
    {
     "name": "stdout",
     "output_type": "stream",
     "text": [
      "Model Build Start!\n",
      "Model Build Success!\n",
      "INFO:tensorflow:Restoring parameters from ckpt/10CV_baseline0.ckpt\n",
      "Model Build Start!\n",
      "Model Build Success!\n",
      "INFO:tensorflow:Restoring parameters from ckpt/10CV_baseline1.ckpt\n",
      "Model Build Start!\n",
      "Model Build Success!\n",
      "INFO:tensorflow:Restoring parameters from ckpt/10CV_baseline2.ckpt\n",
      "Model Build Start!\n",
      "Model Build Success!\n",
      "INFO:tensorflow:Restoring parameters from ckpt/10CV_baseline3.ckpt\n",
      "Model Build Start!\n",
      "Model Build Success!\n",
      "INFO:tensorflow:Restoring parameters from ckpt/10CV_baseline4.ckpt\n",
      "Model Build Start!\n",
      "Model Build Success!\n",
      "INFO:tensorflow:Restoring parameters from ckpt/10CV_baseline5.ckpt\n",
      "Model Build Start!\n",
      "Model Build Success!\n",
      "INFO:tensorflow:Restoring parameters from ckpt/10CV_baseline6.ckpt\n",
      "Model Build Start!\n",
      "Model Build Success!\n",
      "INFO:tensorflow:Restoring parameters from ckpt/10CV_baseline7.ckpt\n",
      "Model Build Start!\n",
      "Model Build Success!\n",
      "INFO:tensorflow:Restoring parameters from ckpt/10CV_baseline8.ckpt\n",
      "Model Build Start!\n",
      "Model Build Success!\n",
      "INFO:tensorflow:Restoring parameters from ckpt/10CV_baseline9.ckpt\n"
     ]
    }
   ],
   "source": [
    "CV_proba = np.zeros((test_num, CLASS_NUM))\n",
    "for i in range(N):\n",
    "    my_model.build_model(\"{}{}\".format(MODEL_Prefix, i))\n",
    "    CV_proba += my_model.batch_predict(s2_test, \"{}{}\".format(MODEL_Prefix, i))"
   ]
  },
  {
   "cell_type": "code",
   "execution_count": 8,
   "metadata": {
    "collapsed": true
   },
   "outputs": [],
   "source": [
    "CV_proba_max_loc = np.argmax(CV_proba, 1)\n",
    "one_hot=tf.one_hot(CV_proba_max_loc,CLASS_NUM)\n",
    "with tf.Session() as sess:\n",
    "    _one_hot = sess.run(one_hot)\n",
    "_one_hot = _one_hot.astype(np.int16)\n",
    "pd.DataFrame(_one_hot).to_csv('1227_deep_result_10CV{}.csv'.format(N), index=False, header=None)"
   ]
  }
 ],
 "metadata": {
  "kernelspec": {
   "display_name": "Python 3",
   "language": "python",
   "name": "python3"
  },
  "language_info": {
   "codemirror_mode": {
    "name": "ipython",
    "version": 3
   },
   "file_extension": ".py",
   "mimetype": "text/x-python",
   "name": "python",
   "nbconvert_exporter": "python",
   "pygments_lexer": "ipython3",
   "version": "3.6.1"
  }
 },
 "nbformat": 4,
 "nbformat_minor": 2
}
