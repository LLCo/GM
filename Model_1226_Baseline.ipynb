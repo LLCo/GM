{
 "cells": [
  {
   "cell_type": "markdown",
   "metadata": {},
   "source": [
    "# Import necessary lib. \n"
   ]
  },
  {
   "cell_type": "code",
   "execution_count": 1,
   "metadata": {},
   "outputs": [
    {
     "name": "stderr",
     "output_type": "stream",
     "text": [
      "E:\\Liulicong\\Software\\Anaconda3\\lib\\site-packages\\h5py\\__init__.py:34: FutureWarning: Conversion of the second argument of issubdtype from `float` to `np.floating` is deprecated. In future, it will be treated as `np.float64 == np.dtype(float).type`.\n",
      "  from ._conv import register_converters as _register_converters\n"
     ]
    },
    {
     "name": "stdout",
     "output_type": "stream",
     "text": [
      "1.12.0\n"
     ]
    }
   ],
   "source": [
    "# TensorFlow and tf.keras\n",
    "import tensorflow as tf\n",
    "from tensorflow.contrib.layers import l1_l2_regularizer\n",
    "\n",
    "# Helper libraries\n",
    "import numpy as np\n",
    "import pandas as pd\n",
    "import matplotlib.pyplot as plt\n",
    "\n",
    "print(tf.__version__)\n",
    "\n",
    "import os\n",
    "import h5py\n",
    "import time\n",
    "# from batchnorm import batch_norm,fc_batch_norm\n",
    "\n",
    "from sklearn.metrics import accuracy_score,classification_report\n",
    "import Model_1226 as my_model"
   ]
  },
  {
   "cell_type": "markdown",
   "metadata": {},
   "source": [
    "# Configuration\n",
    "Set the class names and num (17).\n",
    "Set the data path (relative path). "
   ]
  },
  {
   "cell_type": "code",
   "execution_count": 2,
   "metadata": {
    "collapsed": true
   },
   "outputs": [],
   "source": [
    "# configuration\n",
    "# data attribution\n",
    "CLASS_NUM = 17\n",
    "CLASS_URBAN = ['Urban_Compact high-rise', 'Urban_Compact mid-rise', 'Urban_Compact low-rise',\n",
    "               'Urban_Open high-rise', 'Urban_Open mid-rise', 'Urban_Open low-rise',\n",
    "               'Urban_Lightweight low-rise', 'Large low-rise', 'Sparesly built', 'Heavy industry']\n",
    "CLASS_RURAL = ['Dense trees', 'Scattered trees', 'Bush and scrub', 'Low plants', 'Bare rock or paved', 'Bare soil or sand', 'Water']\n",
    "CLASS_NAME = CLASS_URBAN + CLASS_RURAL\n",
    "\n",
    "# data path\n",
    "base_dir = r'../data/'\n",
    "path_training = os.path.join(base_dir, 'training.h5')\n",
    "path_validation = os.path.join(base_dir, 'validation.h5')\n",
    "path_test = os.path.join(base_dir, 'round1_test_a_20181109.h5')\n",
    "# random\n",
    "np.random.seed(0)"
   ]
  },
  {
   "cell_type": "markdown",
   "metadata": {},
   "source": [
    "# Read Data\n",
    "Check the data foramt."
   ]
  },
  {
   "cell_type": "code",
   "execution_count": 3,
   "metadata": {
    "scrolled": true
   },
   "outputs": [
    {
     "name": "stdout",
     "output_type": "stream",
     "text": [
      "------------------------------------------------------------\n",
      "training part\n",
      "s1_training:  (352366, 32, 32, 8)\n",
      "s2_training:  (352366, 32, 32, 10)\n",
      "label_training:  (352366, 17)\n",
      "------------------------------------------------------------\n",
      "validation part\n",
      "s1_validation:  (24119, 32, 32, 8)\n",
      "s2_validation:  (24119, 32, 32, 10)\n",
      "label_validation:  (24119, 17)\n",
      "------------------------------------------------------------\n",
      "Test part\n",
      "s1_test:  (4838, 32, 32, 8)\n",
      "s2_test:  (4838, 32, 32, 10)\n"
     ]
    }
   ],
   "source": [
    "h5py_training = h5py.File(path_training,'r')\n",
    "h5py_validation = h5py.File(path_validation,'r')\n",
    "h5py_test = h5py.File(path_test, 'r')\n",
    "\n",
    "### get s1 image channel data\n",
    "### it is not really loaded into memory. only the indexes have been loaded.\n",
    "print(\"-\" * 60)\n",
    "print(\"training part\")\n",
    "s1_training = h5py_training['sen1']\n",
    "print('s1_training: ', s1_training.shape)\n",
    "s2_training = h5py_training['sen2']\n",
    "print('s2_training: ', s2_training.shape)\n",
    "label_training = h5py_training['label']\n",
    "print('label_training: ', label_training.shape)\n",
    "\n",
    "print(\"-\" * 60)\n",
    "print(\"validation part\")\n",
    "s1_validation = h5py_validation['sen1']\n",
    "print('s1_validation: ', s1_validation.shape)\n",
    "s2_validation = h5py_validation['sen2']\n",
    "print('s2_validation: ', s2_validation.shape)\n",
    "label_validation = h5py_validation['label']\n",
    "print('label_validation: ', label_validation.shape)\n",
    "\n",
    "print(\"-\" * 60)\n",
    "print(\"Test part\")\n",
    "s1_test = h5py_test['sen1']\n",
    "print('s1_test: ', s1_test.shape)\n",
    "s2_test = h5py_test['sen2']\n",
    "print('s2_test: ', s2_test.shape)\n",
    "\n",
    "\n",
    "train_num, pixel_x, pixel_y, sar_bands = s1_training.shape\n",
    "vali_num, pixel_x, pixel_y, optical_bands = s2_validation.shape\n",
    "test_num = s1_test.shape[0]"
   ]
  },
  {
   "cell_type": "markdown",
   "metadata": {},
   "source": [
    "# Pre Training"
   ]
  },
  {
   "cell_type": "code",
   "execution_count": null,
   "metadata": {
    "collapsed": true
   },
   "outputs": [],
   "source": []
  },
  {
   "cell_type": "markdown",
   "metadata": {},
   "source": [
    "# CV Training"
   ]
  },
  {
   "cell_type": "code",
   "execution_count": 16,
   "metadata": {
    "collapsed": true
   },
   "outputs": [],
   "source": [
    "MODEL_Prefix = \"SHUFFLE_FALSE_5CV\"\n",
    "N = 5\n",
    "kflod_turns = 1"
   ]
  },
  {
   "cell_type": "code",
   "execution_count": 17,
   "metadata": {
    "scrolled": true
   },
   "outputs": [
    {
     "name": "stdout",
     "output_type": "stream",
     "text": [
      "0 ; Train: [ 4824  4825  4826 ... 24116 24117 24118] | test: [   0    1    2 ... 4821 4822 4823]\n",
      "Model Build Start!\n",
      "Model Build Success!\n",
      "start training!\n",
      "Loss change at:  0 With AC:  0.03526666678488254 With Loss:  2.8539759286402866\n",
      "Loss change at:  450 With AC:  0.376599999666214 With Loss:  2.4438574919060096\n",
      "Loss change at:  500 With AC:  0.5121999967098236 With Loss:  1.685033739700444\n",
      "Loss change at:  550 With AC:  0.7490000009536744 With Loss:  0.8122259720443296\n",
      "Loss change at:  600 With AC:  0.8265999984741211 With Loss:  0.5579766341505161\n",
      "Loss change at:  750 With AC:  0.8760000038146972 With Loss:  0.37411290693836624\n",
      "Loss change at:  850 With AC:  0.8827333354949951 With Loss:  0.3506924311319987\n",
      "Loss change at:  900 With AC:  0.9042666578292846 With Loss:  0.3052279534031503\n",
      "Loss change at:  1400 With AC:  0.9011999940872193 With Loss:  0.2959449704409041\n",
      "Loss change at:  1450 With AC:  0.9081333303451538 With Loss:  0.2761091444622818\n",
      "Loss change at:  1750 With AC:  0.9179999995231628 With Loss:  0.25051172020818857\n",
      "Loss change at:  1800 With AC:  0.9227999997138977 With Loss:  0.21930054072321548\n",
      "Loss change at:  2000 With AC:  0.9241333317756653 With Loss:  0.20787779964617828\n",
      "Loss change at:  2550 With AC:  0.9245333361625672 With Loss:  0.2034557585297137\n",
      "Loss change at:  2750 With AC:  0.9336000013351441 With Loss:  0.2028094136695166\n",
      "Loss change at:  3050 With AC:  0.9352000021934509 With Loss:  0.18889434578802258\n",
      "Loss change at:  3700 With AC:  0.9387999987602234 With Loss:  0.1813972597296163\n",
      "Loss change at:  3850 With AC:  0.9419333267211915 With Loss:  0.17999982438474943\n",
      "Time use:  212.36981534957886\n",
      "1 ; Train: [    0     1     2 ... 24116 24117 24118] | test: [4824 4825 4826 ... 9645 9646 9647]\n",
      "Model Build Start!\n",
      "Model Build Success!\n",
      "start training!\n",
      "Loss change at:  0 With AC:  0.10346666648983956 With Loss:  2.9123686589609528\n",
      "Loss change at:  450 With AC:  0.3161333328485489 With Loss:  2.794751570592472\n",
      "Loss change at:  500 With AC:  0.6095333361625671 With Loss:  1.4135353711509389\n",
      "Loss change at:  550 With AC:  0.7095333313941956 With Loss:  0.9827309706515538\n",
      "Loss change at:  600 With AC:  0.761933331489563 With Loss:  0.7672414526615174\n",
      "Loss change at:  650 With AC:  0.7874666595458985 With Loss:  0.6690090766198205\n",
      "Loss change at:  700 With AC:  0.8403999948501587 With Loss:  0.48377481305579445\n",
      "Loss change at:  750 With AC:  0.8425999975204468 With Loss:  0.45180802163397693\n",
      "Loss change at:  800 With AC:  0.848600001335144 With Loss:  0.42878550202099247\n",
      "Loss change at:  850 With AC:  0.8574000000953674 With Loss:  0.4257459276746557\n",
      "Loss change at:  900 With AC:  0.8612000012397766 With Loss:  0.40029419160403223\n",
      "Loss change at:  1000 With AC:  0.8665333318710328 With Loss:  0.3932733678106052\n",
      "Loss change at:  1050 With AC:  0.893666660785675 With Loss:  0.3416437738965795\n",
      "Loss change at:  1150 With AC:  0.8844666647911071 With Loss:  0.33482717953708835\n",
      "Loss change at:  1200 With AC:  0.882666666507721 With Loss:  0.3343898558102635\n",
      "Loss change at:  1250 With AC:  0.894466667175293 With Loss:  0.3077203482142333\n",
      "Loss change at:  1350 With AC:  0.9048666667938232 With Loss:  0.28932139331823953\n",
      "Loss change at:  1600 With AC:  0.9141333365440368 With Loss:  0.26274618659644183\n",
      "Loss change at:  1900 With AC:  0.9201333403587342 With Loss:  0.24367321140532866\n",
      "Loss change at:  2300 With AC:  0.9174666690826416 With Loss:  0.23837972932787083\n",
      "Loss change at:  2350 With AC:  0.9180666708946228 With Loss:  0.23503942117959903\n",
      "Loss change at:  2400 With AC:  0.9266000056266784 With Loss:  0.21599563773394026\n",
      "Loss change at:  2550 With AC:  0.9316666698455811 With Loss:  0.20883568058757243\n",
      "Loss change at:  2750 With AC:  0.9299999976158142 With Loss:  0.20377022215778356\n",
      "Loss change at:  2850 With AC:  0.9362666678428649 With Loss:  0.19122038047705123\n",
      "Loss change at:  3000 With AC:  0.9368666696548462 With Loss:  0.1864939408120429\n",
      "Loss change at:  3300 With AC:  0.9418666696548462 With Loss:  0.17473208390262787\n",
      "Time use:  222.2199592590332\n",
      "2 ; Train: [    0     1     2 ... 24116 24117 24118] | test: [ 9648  9649  9650 ... 14469 14470 14471]\n",
      "Model Build Start!\n",
      "Model Build Success!\n",
      "start training!\n",
      "Loss change at:  0 With AC:  0.12299999922513961 With Loss:  2.8808886621326555\n",
      "Loss change at:  400 With AC:  0.3081999981403351 With Loss:  2.7281071677136777\n",
      "Loss change at:  450 With AC:  0.4666666674613953 With Loss:  1.8488443020366714\n",
      "Loss change at:  500 With AC:  0.5863999986648559 With Loss:  1.400388898738779\n",
      "Loss change at:  550 With AC:  0.7329333353042603 With Loss:  0.8221049111083175\n",
      "Loss change at:  600 With AC:  0.7905333328247071 With Loss:  0.6814806587858184\n",
      "Loss change at:  650 With AC:  0.8522666716575622 With Loss:  0.45934155884864514\n",
      "Loss change at:  750 With AC:  0.8746666622161865 With Loss:  0.3789362944971467\n",
      "Loss change at:  850 With AC:  0.8820666646957398 With Loss:  0.3751852674468437\n",
      "Loss change at:  950 With AC:  0.8855333280563354 With Loss:  0.3450295488237346\n",
      "Loss change at:  1000 With AC:  0.903066668510437 With Loss:  0.31372314256617484\n",
      "Loss change at:  1050 With AC:  0.895866665840149 With Loss:  0.3087253018991271\n",
      "Loss change at:  1100 With AC:  0.9007333278656006 With Loss:  0.30056561027988665\n",
      "Loss change at:  1250 With AC:  0.9042666697502136 With Loss:  0.28791265345331446\n",
      "Loss change at:  1400 With AC:  0.908733332157135 With Loss:  0.2783467983131978\n",
      "Loss change at:  1550 With AC:  0.9121333384513854 With Loss:  0.2692368471405004\n",
      "Loss change at:  1700 With AC:  0.9108666682243347 With Loss:  0.26468103204793597\n",
      "Loss change at:  1800 With AC:  0.9219333386421203 With Loss:  0.24681671875626293\n",
      "Loss change at:  2000 With AC:  0.9293333339691162 With Loss:  0.2185130387198668\n",
      "Loss change at:  2700 With AC:  0.9337333345413208 With Loss:  0.21258483103061\n",
      "Loss change at:  2800 With AC:  0.9357333302497863 With Loss:  0.20589415242225179\n",
      "Loss change at:  3000 With AC:  0.9383333325386047 With Loss:  0.19274956758935652\n",
      "Loss change at:  3500 With AC:  0.9371333312988281 With Loss:  0.19038559172679337\n",
      "Loss change at:  3700 With AC:  0.9423333287239075 With Loss:  0.18709559464336034\n",
      "Loss change at:  3750 With AC:  0.9461333274841308 With Loss:  0.16683608718574738\n",
      "Time use:  212.6917872428894\n",
      "3 ; Train: [    0     1     2 ... 24116 24117 24118] | test: [14472 14473 14474 ... 19293 19294 19295]\n",
      "Model Build Start!\n",
      "Model Build Success!\n",
      "start training!\n",
      "Loss change at:  0 With AC:  0.03413333337754011 With Loss:  2.9185258919129127\n",
      "Loss change at:  50 With AC:  0.11759999990463257 With Loss:  2.885472073088436\n",
      "Loss change at:  450 With AC:  0.43473333477973936 With Loss:  2.3391559475887673\n",
      "Loss change at:  500 With AC:  0.5975333309173584 With Loss:  1.4010653321818136\n",
      "Loss change at:  550 With AC:  0.6772000002861023 With Loss:  1.107014875111493\n",
      "Loss change at:  600 With AC:  0.7574666690826416 With Loss:  0.7745309223978476\n",
      "Loss change at:  650 With AC:  0.8068666672706604 With Loss:  0.599876700349115\n",
      "Loss change at:  700 With AC:  0.8530000042915344 With Loss:  0.4474305782349746\n",
      "Loss change at:  750 With AC:  0.883266670703888 With Loss:  0.374987722827032\n",
      "Loss change at:  900 With AC:  0.8762000012397766 With Loss:  0.3725880943918307\n",
      "Loss change at:  950 With AC:  0.8943999934196473 With Loss:  0.3186609711417709\n",
      "Loss change at:  1300 With AC:  0.9051333236694336 With Loss:  0.28956697147283983\n",
      "Loss change at:  1550 With AC:  0.9081999969482422 With Loss:  0.27856418307543196\n",
      "Loss change at:  2000 With AC:  0.9096666646003723 With Loss:  0.25936463737171483\n",
      "Loss change at:  2050 With AC:  0.9226000046730042 With Loss:  0.23734492058579998\n",
      "Loss change at:  2250 With AC:  0.9272666716575623 With Loss:  0.23230091429270716\n",
      "Loss change at:  2300 With AC:  0.9369333362579346 With Loss:  0.18962104220690815\n",
      "Loss change at:  2450 With AC:  0.9390666675567627 With Loss:  0.18650689943512874\n",
      "Time use:  191.59033012390137\n",
      "4 ; Train: [    0     1     2 ... 19293 19294 19295] | test: [19296 19297 19298 ... 24116 24117 24118]\n",
      "Model Build Start!\n",
      "Model Build Success!\n",
      "start training!\n",
      "Loss change at:  0 With AC:  0.13435652136802673 With Loss:  2.884797505365475\n",
      "Loss change at:  450 With AC:  0.3762347829341888 With Loss:  2.83698705032162\n"
     ]
    },
    {
     "name": "stdout",
     "output_type": "stream",
     "text": [
      "Loss change at:  500 With AC:  0.501852171421051 With Loss:  1.8564641178581147\n",
      "Loss change at:  550 With AC:  0.6883478260040283 With Loss:  1.0038122465421173\n",
      "Loss change at:  600 With AC:  0.8148434805870056 With Loss:  0.5813595995031994\n",
      "Loss change at:  700 With AC:  0.8405826044082642 With Loss:  0.47878591682612837\n",
      "Loss change at:  750 With AC:  0.8511999988555908 With Loss:  0.47089389209403254\n",
      "Loss change at:  800 With AC:  0.8602434802055359 With Loss:  0.4330370450400476\n",
      "Loss change at:  850 With AC:  0.8657826042175293 With Loss:  0.42198392056143436\n",
      "Loss change at:  900 With AC:  0.8729217386245728 With Loss:  0.40553823467510114\n",
      "Loss change at:  1000 With AC:  0.876921739578247 With Loss:  0.38183371812605693\n",
      "Loss change at:  1050 With AC:  0.8848608684539795 With Loss:  0.37564663775303836\n",
      "Loss change at:  1150 With AC:  0.8929217433929444 With Loss:  0.32812028926807446\n",
      "Loss change at:  1550 With AC:  0.9037217378616333 With Loss:  0.28553022914177\n",
      "Loss change at:  1700 With AC:  0.9189999961853027 With Loss:  0.25500521999954706\n",
      "Loss change at:  2100 With AC:  0.9252000021934509 With Loss:  0.23748815694884495\n",
      "Loss change at:  2500 With AC:  0.9334608769416809 With Loss:  0.20361648643014343\n",
      "Loss change at:  3450 With AC:  0.9390608668327332 With Loss:  0.1931159771652902\n",
      "Loss change at:  3600 With AC:  0.9408608698844909 With Loss:  0.18653951758001694\n",
      "Time use:  223.58845353126526\n"
     ]
    }
   ],
   "source": [
    "from sklearn.model_selection import StratifiedKFold\n",
    "for kflod_turn in range(kflod_turns):\n",
    "    sfolder = StratifiedKFold(n_splits=N, random_state=kflod_turn, shuffle=False)\n",
    "    for i, (train_loc, vali_loc) in enumerate(sfolder.split(np.zeros((vali_num, 1)), np.zeros(vali_num))):\n",
    "        _id = i + N * kflod_turn\n",
    "        print(_id, '; Train: %s | test: %s' % (train_loc, vali_loc))\n",
    "        X_optical_train = s2_validation[train_loc, :, :, :]\n",
    "        y_train = label_validation[train_loc, :]\n",
    "\n",
    "        X_optical_vali = s2_validation[vali_loc, :, :, :]\n",
    "        y_vali = label_validation[vali_loc, :]\n",
    "\n",
    "        my_model.build_model(\"{}{}\".format(MODEL_Prefix, _id))\n",
    "        my_model.training((X_optical_train, y_train), (X_optical_vali, y_vali), \n",
    "                          model_name=\"{}{}\".format(MODEL_Prefix, _id), epochs=40)"
   ]
  },
  {
   "cell_type": "markdown",
   "metadata": {},
   "source": [
    "# CV Test "
   ]
  },
  {
   "cell_type": "code",
   "execution_count": 21,
   "metadata": {
    "collapsed": true
   },
   "outputs": [],
   "source": [
    "MODEL_Prefix = \"SHUFFLE_TRUE_5CV\""
   ]
  },
  {
   "cell_type": "code",
   "execution_count": 22,
   "metadata": {},
   "outputs": [
    {
     "name": "stdout",
     "output_type": "stream",
     "text": [
      "Model Build Start!\n",
      "Model Build Success!\n",
      "INFO:tensorflow:Restoring parameters from ../ckpt/SHUFFLE_TRUE_5CV0.ckpt\n",
      "Model Build Start!\n",
      "Model Build Success!\n",
      "INFO:tensorflow:Restoring parameters from ../ckpt/SHUFFLE_TRUE_5CV1.ckpt\n",
      "Model Build Start!\n",
      "Model Build Success!\n",
      "INFO:tensorflow:Restoring parameters from ../ckpt/SHUFFLE_TRUE_5CV2.ckpt\n",
      "Model Build Start!\n",
      "Model Build Success!\n",
      "INFO:tensorflow:Restoring parameters from ../ckpt/SHUFFLE_TRUE_5CV3.ckpt\n",
      "Model Build Start!\n",
      "Model Build Success!\n",
      "INFO:tensorflow:Restoring parameters from ../ckpt/SHUFFLE_TRUE_5CV4.ckpt\n"
     ]
    }
   ],
   "source": [
    "CV_proba = np.zeros((test_num, CLASS_NUM))\n",
    "for i in range(5):\n",
    "    my_model.build_model(\"{}{}\".format(MODEL_Prefix, i))\n",
    "    CV_proba += my_model.batch_predict(s2_test, \"{}{}\".format(MODEL_Prefix, i))"
   ]
  },
  {
   "cell_type": "code",
   "execution_count": 23,
   "metadata": {
    "collapsed": true
   },
   "outputs": [],
   "source": [
    "CV_proba_max_loc = np.argmax(CV_proba, 1)\n",
    "one_hot=tf.one_hot(CV_proba_max_loc,CLASS_NUM)\n",
    "with tf.Session() as sess:\n",
    "    _one_hot = sess.run(one_hot)\n",
    "_one_hot = _one_hot.astype(np.int16)\n",
    "pd.DataFrame(_one_hot).to_csv('../result/1229_deep_result_true{}.csv'.format(N), index=False, header=None)"
   ]
  }
 ],
 "metadata": {
  "kernelspec": {
   "display_name": "Python 3",
   "language": "python",
   "name": "python3"
  },
  "language_info": {
   "codemirror_mode": {
    "name": "ipython",
    "version": 3
   },
   "file_extension": ".py",
   "mimetype": "text/x-python",
   "name": "python",
   "nbconvert_exporter": "python",
   "pygments_lexer": "ipython3",
   "version": "3.6.1"
  }
 },
 "nbformat": 4,
 "nbformat_minor": 2
}
